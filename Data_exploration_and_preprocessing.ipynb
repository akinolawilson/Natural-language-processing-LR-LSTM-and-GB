{
  "nbformat": 4,
  "nbformat_minor": 0,
  "metadata": {
    "colab": {
      "name": "Data_exploration_and_preprocessing.ipynb",
      "provenance": [],
      "collapsed_sections": [
        "t9yjYf-6W3to",
        "QUU-1vIAHoTH",
        "KHNoPpi6RAz5",
        "DEXRXUDEiRC0",
        "KVn6c6_2i2Kn",
        "zys-Zb-tH8m2",
        "4Fn7xrPPQcWY"
      ]
    },
    "kernelspec": {
      "name": "python3",
      "display_name": "Python 3"
    },
    "widgets": {
      "application/vnd.jupyter.widget-state+json": {
        "b2b626255a424772bf607b560a641ee3": {
          "model_module": "@jupyter-widgets/controls",
          "model_name": "HBoxModel",
          "state": {
            "_view_name": "HBoxView",
            "_dom_classes": [],
            "_model_name": "HBoxModel",
            "_view_module": "@jupyter-widgets/controls",
            "_model_module_version": "1.5.0",
            "_view_count": null,
            "_view_module_version": "1.5.0",
            "box_style": "",
            "layout": "IPY_MODEL_e28be7b731eb4d87beefe32074cb89ec",
            "_model_module": "@jupyter-widgets/controls",
            "children": [
              "IPY_MODEL_782a90b202fd4d0e9186e96cd34295c3",
              "IPY_MODEL_adc6ab74fffd46219d8c0a38f62a3746"
            ]
          }
        },
        "e28be7b731eb4d87beefe32074cb89ec": {
          "model_module": "@jupyter-widgets/base",
          "model_name": "LayoutModel",
          "state": {
            "_view_name": "LayoutView",
            "grid_template_rows": null,
            "right": null,
            "justify_content": null,
            "_view_module": "@jupyter-widgets/base",
            "overflow": null,
            "_model_module_version": "1.2.0",
            "_view_count": null,
            "flex_flow": null,
            "width": null,
            "min_width": null,
            "border": null,
            "align_items": null,
            "bottom": null,
            "_model_module": "@jupyter-widgets/base",
            "top": null,
            "grid_column": null,
            "overflow_y": null,
            "overflow_x": null,
            "grid_auto_flow": null,
            "grid_area": null,
            "grid_template_columns": null,
            "flex": null,
            "_model_name": "LayoutModel",
            "justify_items": null,
            "grid_row": null,
            "max_height": null,
            "align_content": null,
            "visibility": null,
            "align_self": null,
            "height": null,
            "min_height": null,
            "padding": null,
            "grid_auto_rows": null,
            "grid_gap": null,
            "max_width": null,
            "order": null,
            "_view_module_version": "1.2.0",
            "grid_template_areas": null,
            "object_position": null,
            "object_fit": null,
            "grid_auto_columns": null,
            "margin": null,
            "display": null,
            "left": null
          }
        },
        "782a90b202fd4d0e9186e96cd34295c3": {
          "model_module": "@jupyter-widgets/controls",
          "model_name": "FloatProgressModel",
          "state": {
            "_view_name": "ProgressView",
            "style": "IPY_MODEL_12577193dedb4b6f853bdd934064a446",
            "_dom_classes": [],
            "description": "Loading data....: 100%",
            "_model_name": "FloatProgressModel",
            "bar_style": "success",
            "max": 6,
            "_view_module": "@jupyter-widgets/controls",
            "_model_module_version": "1.5.0",
            "value": 6,
            "_view_count": null,
            "_view_module_version": "1.5.0",
            "orientation": "horizontal",
            "min": 0,
            "description_tooltip": null,
            "_model_module": "@jupyter-widgets/controls",
            "layout": "IPY_MODEL_a60df6e7251649b69e74e467d5325b10"
          }
        },
        "adc6ab74fffd46219d8c0a38f62a3746": {
          "model_module": "@jupyter-widgets/controls",
          "model_name": "HTMLModel",
          "state": {
            "_view_name": "HTMLView",
            "style": "IPY_MODEL_3a12cdeb41564e41a4a72801b82c7d4c",
            "_dom_classes": [],
            "description": "",
            "_model_name": "HTMLModel",
            "placeholder": "​",
            "_view_module": "@jupyter-widgets/controls",
            "_model_module_version": "1.5.0",
            "value": " 6/6 [12:23&lt;00:00, 123.93s/it]",
            "_view_count": null,
            "_view_module_version": "1.5.0",
            "description_tooltip": null,
            "_model_module": "@jupyter-widgets/controls",
            "layout": "IPY_MODEL_a371dcbcb6a649a1b8fb0bb2363f4347"
          }
        },
        "12577193dedb4b6f853bdd934064a446": {
          "model_module": "@jupyter-widgets/controls",
          "model_name": "ProgressStyleModel",
          "state": {
            "_view_name": "StyleView",
            "_model_name": "ProgressStyleModel",
            "description_width": "initial",
            "_view_module": "@jupyter-widgets/base",
            "_model_module_version": "1.5.0",
            "_view_count": null,
            "_view_module_version": "1.2.0",
            "bar_color": null,
            "_model_module": "@jupyter-widgets/controls"
          }
        },
        "a60df6e7251649b69e74e467d5325b10": {
          "model_module": "@jupyter-widgets/base",
          "model_name": "LayoutModel",
          "state": {
            "_view_name": "LayoutView",
            "grid_template_rows": null,
            "right": null,
            "justify_content": null,
            "_view_module": "@jupyter-widgets/base",
            "overflow": null,
            "_model_module_version": "1.2.0",
            "_view_count": null,
            "flex_flow": null,
            "width": null,
            "min_width": null,
            "border": null,
            "align_items": null,
            "bottom": null,
            "_model_module": "@jupyter-widgets/base",
            "top": null,
            "grid_column": null,
            "overflow_y": null,
            "overflow_x": null,
            "grid_auto_flow": null,
            "grid_area": null,
            "grid_template_columns": null,
            "flex": null,
            "_model_name": "LayoutModel",
            "justify_items": null,
            "grid_row": null,
            "max_height": null,
            "align_content": null,
            "visibility": null,
            "align_self": null,
            "height": null,
            "min_height": null,
            "padding": null,
            "grid_auto_rows": null,
            "grid_gap": null,
            "max_width": null,
            "order": null,
            "_view_module_version": "1.2.0",
            "grid_template_areas": null,
            "object_position": null,
            "object_fit": null,
            "grid_auto_columns": null,
            "margin": null,
            "display": null,
            "left": null
          }
        },
        "3a12cdeb41564e41a4a72801b82c7d4c": {
          "model_module": "@jupyter-widgets/controls",
          "model_name": "DescriptionStyleModel",
          "state": {
            "_view_name": "StyleView",
            "_model_name": "DescriptionStyleModel",
            "description_width": "",
            "_view_module": "@jupyter-widgets/base",
            "_model_module_version": "1.5.0",
            "_view_count": null,
            "_view_module_version": "1.2.0",
            "_model_module": "@jupyter-widgets/controls"
          }
        },
        "a371dcbcb6a649a1b8fb0bb2363f4347": {
          "model_module": "@jupyter-widgets/base",
          "model_name": "LayoutModel",
          "state": {
            "_view_name": "LayoutView",
            "grid_template_rows": null,
            "right": null,
            "justify_content": null,
            "_view_module": "@jupyter-widgets/base",
            "overflow": null,
            "_model_module_version": "1.2.0",
            "_view_count": null,
            "flex_flow": null,
            "width": null,
            "min_width": null,
            "border": null,
            "align_items": null,
            "bottom": null,
            "_model_module": "@jupyter-widgets/base",
            "top": null,
            "grid_column": null,
            "overflow_y": null,
            "overflow_x": null,
            "grid_auto_flow": null,
            "grid_area": null,
            "grid_template_columns": null,
            "flex": null,
            "_model_name": "LayoutModel",
            "justify_items": null,
            "grid_row": null,
            "max_height": null,
            "align_content": null,
            "visibility": null,
            "align_self": null,
            "height": null,
            "min_height": null,
            "padding": null,
            "grid_auto_rows": null,
            "grid_gap": null,
            "max_width": null,
            "order": null,
            "_view_module_version": "1.2.0",
            "grid_template_areas": null,
            "object_position": null,
            "object_fit": null,
            "grid_auto_columns": null,
            "margin": null,
            "display": null,
            "left": null
          }
        },
        "d9eb9ce0d1c646ffb8e5730253fdd20c": {
          "model_module": "@jupyter-widgets/controls",
          "model_name": "HBoxModel",
          "state": {
            "_view_name": "HBoxView",
            "_dom_classes": [],
            "_model_name": "HBoxModel",
            "_view_module": "@jupyter-widgets/controls",
            "_model_module_version": "1.5.0",
            "_view_count": null,
            "_view_module_version": "1.5.0",
            "box_style": "",
            "layout": "IPY_MODEL_bf447ff07b6f4a31b28bbd13064fbf20",
            "_model_module": "@jupyter-widgets/controls",
            "children": [
              "IPY_MODEL_061b7fe0cb4b4c54b8c9d806fd616b7a",
              "IPY_MODEL_1bdda76c67e94fe5afce4b848baed0b2"
            ]
          }
        },
        "bf447ff07b6f4a31b28bbd13064fbf20": {
          "model_module": "@jupyter-widgets/base",
          "model_name": "LayoutModel",
          "state": {
            "_view_name": "LayoutView",
            "grid_template_rows": null,
            "right": null,
            "justify_content": null,
            "_view_module": "@jupyter-widgets/base",
            "overflow": null,
            "_model_module_version": "1.2.0",
            "_view_count": null,
            "flex_flow": null,
            "width": null,
            "min_width": null,
            "border": null,
            "align_items": null,
            "bottom": null,
            "_model_module": "@jupyter-widgets/base",
            "top": null,
            "grid_column": null,
            "overflow_y": null,
            "overflow_x": null,
            "grid_auto_flow": null,
            "grid_area": null,
            "grid_template_columns": null,
            "flex": null,
            "_model_name": "LayoutModel",
            "justify_items": null,
            "grid_row": null,
            "max_height": null,
            "align_content": null,
            "visibility": null,
            "align_self": null,
            "height": null,
            "min_height": null,
            "padding": null,
            "grid_auto_rows": null,
            "grid_gap": null,
            "max_width": null,
            "order": null,
            "_view_module_version": "1.2.0",
            "grid_template_areas": null,
            "object_position": null,
            "object_fit": null,
            "grid_auto_columns": null,
            "margin": null,
            "display": null,
            "left": null
          }
        },
        "061b7fe0cb4b4c54b8c9d806fd616b7a": {
          "model_module": "@jupyter-widgets/controls",
          "model_name": "FloatProgressModel",
          "state": {
            "_view_name": "ProgressView",
            "style": "IPY_MODEL_be8163e7c3cc4e518b679917c04e9394",
            "_dom_classes": [],
            "description": "100%",
            "_model_name": "FloatProgressModel",
            "bar_style": "success",
            "max": 545424,
            "_view_module": "@jupyter-widgets/controls",
            "_model_module_version": "1.5.0",
            "value": 545424,
            "_view_count": null,
            "_view_module_version": "1.5.0",
            "orientation": "horizontal",
            "min": 0,
            "description_tooltip": null,
            "_model_module": "@jupyter-widgets/controls",
            "layout": "IPY_MODEL_aa3d1a19ed084013bb79eb1e8a65b82d"
          }
        },
        "1bdda76c67e94fe5afce4b848baed0b2": {
          "model_module": "@jupyter-widgets/controls",
          "model_name": "HTMLModel",
          "state": {
            "_view_name": "HTMLView",
            "style": "IPY_MODEL_7c989df4557849bba0ef806c699b70d9",
            "_dom_classes": [],
            "description": "",
            "_model_name": "HTMLModel",
            "placeholder": "​",
            "_view_module": "@jupyter-widgets/controls",
            "_model_module_version": "1.5.0",
            "value": " 545424/545424 [00:07&lt;00:00, 73001.45it/s]",
            "_view_count": null,
            "_view_module_version": "1.5.0",
            "description_tooltip": null,
            "_model_module": "@jupyter-widgets/controls",
            "layout": "IPY_MODEL_ba56a53abf824169b153922d357cc401"
          }
        },
        "be8163e7c3cc4e518b679917c04e9394": {
          "model_module": "@jupyter-widgets/controls",
          "model_name": "ProgressStyleModel",
          "state": {
            "_view_name": "StyleView",
            "_model_name": "ProgressStyleModel",
            "description_width": "initial",
            "_view_module": "@jupyter-widgets/base",
            "_model_module_version": "1.5.0",
            "_view_count": null,
            "_view_module_version": "1.2.0",
            "bar_color": null,
            "_model_module": "@jupyter-widgets/controls"
          }
        },
        "aa3d1a19ed084013bb79eb1e8a65b82d": {
          "model_module": "@jupyter-widgets/base",
          "model_name": "LayoutModel",
          "state": {
            "_view_name": "LayoutView",
            "grid_template_rows": null,
            "right": null,
            "justify_content": null,
            "_view_module": "@jupyter-widgets/base",
            "overflow": null,
            "_model_module_version": "1.2.0",
            "_view_count": null,
            "flex_flow": null,
            "width": null,
            "min_width": null,
            "border": null,
            "align_items": null,
            "bottom": null,
            "_model_module": "@jupyter-widgets/base",
            "top": null,
            "grid_column": null,
            "overflow_y": null,
            "overflow_x": null,
            "grid_auto_flow": null,
            "grid_area": null,
            "grid_template_columns": null,
            "flex": null,
            "_model_name": "LayoutModel",
            "justify_items": null,
            "grid_row": null,
            "max_height": null,
            "align_content": null,
            "visibility": null,
            "align_self": null,
            "height": null,
            "min_height": null,
            "padding": null,
            "grid_auto_rows": null,
            "grid_gap": null,
            "max_width": null,
            "order": null,
            "_view_module_version": "1.2.0",
            "grid_template_areas": null,
            "object_position": null,
            "object_fit": null,
            "grid_auto_columns": null,
            "margin": null,
            "display": null,
            "left": null
          }
        },
        "7c989df4557849bba0ef806c699b70d9": {
          "model_module": "@jupyter-widgets/controls",
          "model_name": "DescriptionStyleModel",
          "state": {
            "_view_name": "StyleView",
            "_model_name": "DescriptionStyleModel",
            "description_width": "",
            "_view_module": "@jupyter-widgets/base",
            "_model_module_version": "1.5.0",
            "_view_count": null,
            "_view_module_version": "1.2.0",
            "_model_module": "@jupyter-widgets/controls"
          }
        },
        "ba56a53abf824169b153922d357cc401": {
          "model_module": "@jupyter-widgets/base",
          "model_name": "LayoutModel",
          "state": {
            "_view_name": "LayoutView",
            "grid_template_rows": null,
            "right": null,
            "justify_content": null,
            "_view_module": "@jupyter-widgets/base",
            "overflow": null,
            "_model_module_version": "1.2.0",
            "_view_count": null,
            "flex_flow": null,
            "width": null,
            "min_width": null,
            "border": null,
            "align_items": null,
            "bottom": null,
            "_model_module": "@jupyter-widgets/base",
            "top": null,
            "grid_column": null,
            "overflow_y": null,
            "overflow_x": null,
            "grid_auto_flow": null,
            "grid_area": null,
            "grid_template_columns": null,
            "flex": null,
            "_model_name": "LayoutModel",
            "justify_items": null,
            "grid_row": null,
            "max_height": null,
            "align_content": null,
            "visibility": null,
            "align_self": null,
            "height": null,
            "min_height": null,
            "padding": null,
            "grid_auto_rows": null,
            "grid_gap": null,
            "max_width": null,
            "order": null,
            "_view_module_version": "1.2.0",
            "grid_template_areas": null,
            "object_position": null,
            "object_fit": null,
            "grid_auto_columns": null,
            "margin": null,
            "display": null,
            "left": null
          }
        },
        "b6c1721363924a35a22b3c088d4d7963": {
          "model_module": "@jupyter-widgets/controls",
          "model_name": "HBoxModel",
          "state": {
            "_view_name": "HBoxView",
            "_dom_classes": [],
            "_model_name": "HBoxModel",
            "_view_module": "@jupyter-widgets/controls",
            "_model_module_version": "1.5.0",
            "_view_count": null,
            "_view_module_version": "1.5.0",
            "box_style": "",
            "layout": "IPY_MODEL_5fd73024861943868ab2c4ce5ab1c340",
            "_model_module": "@jupyter-widgets/controls",
            "children": [
              "IPY_MODEL_27d775511e024f9bb3b214f3ab0572d5",
              "IPY_MODEL_7e63e9a9c7704a82835713b89cdf1167"
            ]
          }
        },
        "5fd73024861943868ab2c4ce5ab1c340": {
          "model_module": "@jupyter-widgets/base",
          "model_name": "LayoutModel",
          "state": {
            "_view_name": "LayoutView",
            "grid_template_rows": null,
            "right": null,
            "justify_content": null,
            "_view_module": "@jupyter-widgets/base",
            "overflow": null,
            "_model_module_version": "1.2.0",
            "_view_count": null,
            "flex_flow": null,
            "width": null,
            "min_width": null,
            "border": null,
            "align_items": null,
            "bottom": null,
            "_model_module": "@jupyter-widgets/base",
            "top": null,
            "grid_column": null,
            "overflow_y": null,
            "overflow_x": null,
            "grid_auto_flow": null,
            "grid_area": null,
            "grid_template_columns": null,
            "flex": null,
            "_model_name": "LayoutModel",
            "justify_items": null,
            "grid_row": null,
            "max_height": null,
            "align_content": null,
            "visibility": null,
            "align_self": null,
            "height": null,
            "min_height": null,
            "padding": null,
            "grid_auto_rows": null,
            "grid_gap": null,
            "max_width": null,
            "order": null,
            "_view_module_version": "1.2.0",
            "grid_template_areas": null,
            "object_position": null,
            "object_fit": null,
            "grid_auto_columns": null,
            "margin": null,
            "display": null,
            "left": null
          }
        },
        "27d775511e024f9bb3b214f3ab0572d5": {
          "model_module": "@jupyter-widgets/controls",
          "model_name": "FloatProgressModel",
          "state": {
            "_view_name": "ProgressView",
            "style": "IPY_MODEL_2c9f9307d9a24ca5a737c73ba6aae623",
            "_dom_classes": [],
            "description": "100%",
            "_model_name": "FloatProgressModel",
            "bar_style": "success",
            "max": 545424,
            "_view_module": "@jupyter-widgets/controls",
            "_model_module_version": "1.5.0",
            "value": 545424,
            "_view_count": null,
            "_view_module_version": "1.5.0",
            "orientation": "horizontal",
            "min": 0,
            "description_tooltip": null,
            "_model_module": "@jupyter-widgets/controls",
            "layout": "IPY_MODEL_fa378a2e5d1c47e3ba1822704c137a39"
          }
        },
        "7e63e9a9c7704a82835713b89cdf1167": {
          "model_module": "@jupyter-widgets/controls",
          "model_name": "HTMLModel",
          "state": {
            "_view_name": "HTMLView",
            "style": "IPY_MODEL_3cabf49c74fb4156a02a02c3fdcc14d2",
            "_dom_classes": [],
            "description": "",
            "_model_name": "HTMLModel",
            "placeholder": "​",
            "_view_module": "@jupyter-widgets/controls",
            "_model_module_version": "1.5.0",
            "value": " 545424/545424 [07:46&lt;00:00, 1170.02it/s]",
            "_view_count": null,
            "_view_module_version": "1.5.0",
            "description_tooltip": null,
            "_model_module": "@jupyter-widgets/controls",
            "layout": "IPY_MODEL_34c17f7eb2354906ace1f4dc5f36ddf8"
          }
        },
        "2c9f9307d9a24ca5a737c73ba6aae623": {
          "model_module": "@jupyter-widgets/controls",
          "model_name": "ProgressStyleModel",
          "state": {
            "_view_name": "StyleView",
            "_model_name": "ProgressStyleModel",
            "description_width": "initial",
            "_view_module": "@jupyter-widgets/base",
            "_model_module_version": "1.5.0",
            "_view_count": null,
            "_view_module_version": "1.2.0",
            "bar_color": null,
            "_model_module": "@jupyter-widgets/controls"
          }
        },
        "fa378a2e5d1c47e3ba1822704c137a39": {
          "model_module": "@jupyter-widgets/base",
          "model_name": "LayoutModel",
          "state": {
            "_view_name": "LayoutView",
            "grid_template_rows": null,
            "right": null,
            "justify_content": null,
            "_view_module": "@jupyter-widgets/base",
            "overflow": null,
            "_model_module_version": "1.2.0",
            "_view_count": null,
            "flex_flow": null,
            "width": null,
            "min_width": null,
            "border": null,
            "align_items": null,
            "bottom": null,
            "_model_module": "@jupyter-widgets/base",
            "top": null,
            "grid_column": null,
            "overflow_y": null,
            "overflow_x": null,
            "grid_auto_flow": null,
            "grid_area": null,
            "grid_template_columns": null,
            "flex": null,
            "_model_name": "LayoutModel",
            "justify_items": null,
            "grid_row": null,
            "max_height": null,
            "align_content": null,
            "visibility": null,
            "align_self": null,
            "height": null,
            "min_height": null,
            "padding": null,
            "grid_auto_rows": null,
            "grid_gap": null,
            "max_width": null,
            "order": null,
            "_view_module_version": "1.2.0",
            "grid_template_areas": null,
            "object_position": null,
            "object_fit": null,
            "grid_auto_columns": null,
            "margin": null,
            "display": null,
            "left": null
          }
        },
        "3cabf49c74fb4156a02a02c3fdcc14d2": {
          "model_module": "@jupyter-widgets/controls",
          "model_name": "DescriptionStyleModel",
          "state": {
            "_view_name": "StyleView",
            "_model_name": "DescriptionStyleModel",
            "description_width": "",
            "_view_module": "@jupyter-widgets/base",
            "_model_module_version": "1.5.0",
            "_view_count": null,
            "_view_module_version": "1.2.0",
            "_model_module": "@jupyter-widgets/controls"
          }
        },
        "34c17f7eb2354906ace1f4dc5f36ddf8": {
          "model_module": "@jupyter-widgets/base",
          "model_name": "LayoutModel",
          "state": {
            "_view_name": "LayoutView",
            "grid_template_rows": null,
            "right": null,
            "justify_content": null,
            "_view_module": "@jupyter-widgets/base",
            "overflow": null,
            "_model_module_version": "1.2.0",
            "_view_count": null,
            "flex_flow": null,
            "width": null,
            "min_width": null,
            "border": null,
            "align_items": null,
            "bottom": null,
            "_model_module": "@jupyter-widgets/base",
            "top": null,
            "grid_column": null,
            "overflow_y": null,
            "overflow_x": null,
            "grid_auto_flow": null,
            "grid_area": null,
            "grid_template_columns": null,
            "flex": null,
            "_model_name": "LayoutModel",
            "justify_items": null,
            "grid_row": null,
            "max_height": null,
            "align_content": null,
            "visibility": null,
            "align_self": null,
            "height": null,
            "min_height": null,
            "padding": null,
            "grid_auto_rows": null,
            "grid_gap": null,
            "max_width": null,
            "order": null,
            "_view_module_version": "1.2.0",
            "grid_template_areas": null,
            "object_position": null,
            "object_fit": null,
            "grid_auto_columns": null,
            "margin": null,
            "display": null,
            "left": null
          }
        },
        "d1a4b3181bf54f8ea7163e89f2ffcd07": {
          "model_module": "@jupyter-widgets/controls",
          "model_name": "HBoxModel",
          "state": {
            "_view_name": "HBoxView",
            "_dom_classes": [],
            "_model_name": "HBoxModel",
            "_view_module": "@jupyter-widgets/controls",
            "_model_module_version": "1.5.0",
            "_view_count": null,
            "_view_module_version": "1.5.0",
            "box_style": "",
            "layout": "IPY_MODEL_b0aea084f8894d99a1198ddd8bb18d23",
            "_model_module": "@jupyter-widgets/controls",
            "children": [
              "IPY_MODEL_2a82835137ec46c29406ad5df77e4a5b",
              "IPY_MODEL_ad9e8f6a12874dc9a51de489a8dfa819"
            ]
          }
        },
        "b0aea084f8894d99a1198ddd8bb18d23": {
          "model_module": "@jupyter-widgets/base",
          "model_name": "LayoutModel",
          "state": {
            "_view_name": "LayoutView",
            "grid_template_rows": null,
            "right": null,
            "justify_content": null,
            "_view_module": "@jupyter-widgets/base",
            "overflow": null,
            "_model_module_version": "1.2.0",
            "_view_count": null,
            "flex_flow": null,
            "width": null,
            "min_width": null,
            "border": null,
            "align_items": null,
            "bottom": null,
            "_model_module": "@jupyter-widgets/base",
            "top": null,
            "grid_column": null,
            "overflow_y": null,
            "overflow_x": null,
            "grid_auto_flow": null,
            "grid_area": null,
            "grid_template_columns": null,
            "flex": null,
            "_model_name": "LayoutModel",
            "justify_items": null,
            "grid_row": null,
            "max_height": null,
            "align_content": null,
            "visibility": null,
            "align_self": null,
            "height": null,
            "min_height": null,
            "padding": null,
            "grid_auto_rows": null,
            "grid_gap": null,
            "max_width": null,
            "order": null,
            "_view_module_version": "1.2.0",
            "grid_template_areas": null,
            "object_position": null,
            "object_fit": null,
            "grid_auto_columns": null,
            "margin": null,
            "display": null,
            "left": null
          }
        },
        "2a82835137ec46c29406ad5df77e4a5b": {
          "model_module": "@jupyter-widgets/controls",
          "model_name": "FloatProgressModel",
          "state": {
            "_view_name": "ProgressView",
            "style": "IPY_MODEL_cb7420f19ba64da19aa3a36fc1f4e8b5",
            "_dom_classes": [],
            "description": "100%",
            "_model_name": "FloatProgressModel",
            "bar_style": "success",
            "max": 545424,
            "_view_module": "@jupyter-widgets/controls",
            "_model_module_version": "1.5.0",
            "value": 545424,
            "_view_count": null,
            "_view_module_version": "1.5.0",
            "orientation": "horizontal",
            "min": 0,
            "description_tooltip": null,
            "_model_module": "@jupyter-widgets/controls",
            "layout": "IPY_MODEL_a2f96ccc5eb3450a81b3aaf5036e3808"
          }
        },
        "ad9e8f6a12874dc9a51de489a8dfa819": {
          "model_module": "@jupyter-widgets/controls",
          "model_name": "HTMLModel",
          "state": {
            "_view_name": "HTMLView",
            "style": "IPY_MODEL_66e673321cad452385fe17ffbef21f54",
            "_dom_classes": [],
            "description": "",
            "_model_name": "HTMLModel",
            "placeholder": "​",
            "_view_module": "@jupyter-widgets/controls",
            "_model_module_version": "1.5.0",
            "value": " 545424/545424 [18:41&lt;00:00, 486.38it/s]",
            "_view_count": null,
            "_view_module_version": "1.5.0",
            "description_tooltip": null,
            "_model_module": "@jupyter-widgets/controls",
            "layout": "IPY_MODEL_6a6c61ee3be249cc80d9d14c77dc1ece"
          }
        },
        "cb7420f19ba64da19aa3a36fc1f4e8b5": {
          "model_module": "@jupyter-widgets/controls",
          "model_name": "ProgressStyleModel",
          "state": {
            "_view_name": "StyleView",
            "_model_name": "ProgressStyleModel",
            "description_width": "initial",
            "_view_module": "@jupyter-widgets/base",
            "_model_module_version": "1.5.0",
            "_view_count": null,
            "_view_module_version": "1.2.0",
            "bar_color": null,
            "_model_module": "@jupyter-widgets/controls"
          }
        },
        "a2f96ccc5eb3450a81b3aaf5036e3808": {
          "model_module": "@jupyter-widgets/base",
          "model_name": "LayoutModel",
          "state": {
            "_view_name": "LayoutView",
            "grid_template_rows": null,
            "right": null,
            "justify_content": null,
            "_view_module": "@jupyter-widgets/base",
            "overflow": null,
            "_model_module_version": "1.2.0",
            "_view_count": null,
            "flex_flow": null,
            "width": null,
            "min_width": null,
            "border": null,
            "align_items": null,
            "bottom": null,
            "_model_module": "@jupyter-widgets/base",
            "top": null,
            "grid_column": null,
            "overflow_y": null,
            "overflow_x": null,
            "grid_auto_flow": null,
            "grid_area": null,
            "grid_template_columns": null,
            "flex": null,
            "_model_name": "LayoutModel",
            "justify_items": null,
            "grid_row": null,
            "max_height": null,
            "align_content": null,
            "visibility": null,
            "align_self": null,
            "height": null,
            "min_height": null,
            "padding": null,
            "grid_auto_rows": null,
            "grid_gap": null,
            "max_width": null,
            "order": null,
            "_view_module_version": "1.2.0",
            "grid_template_areas": null,
            "object_position": null,
            "object_fit": null,
            "grid_auto_columns": null,
            "margin": null,
            "display": null,
            "left": null
          }
        },
        "66e673321cad452385fe17ffbef21f54": {
          "model_module": "@jupyter-widgets/controls",
          "model_name": "DescriptionStyleModel",
          "state": {
            "_view_name": "StyleView",
            "_model_name": "DescriptionStyleModel",
            "description_width": "",
            "_view_module": "@jupyter-widgets/base",
            "_model_module_version": "1.5.0",
            "_view_count": null,
            "_view_module_version": "1.2.0",
            "_model_module": "@jupyter-widgets/controls"
          }
        },
        "6a6c61ee3be249cc80d9d14c77dc1ece": {
          "model_module": "@jupyter-widgets/base",
          "model_name": "LayoutModel",
          "state": {
            "_view_name": "LayoutView",
            "grid_template_rows": null,
            "right": null,
            "justify_content": null,
            "_view_module": "@jupyter-widgets/base",
            "overflow": null,
            "_model_module_version": "1.2.0",
            "_view_count": null,
            "flex_flow": null,
            "width": null,
            "min_width": null,
            "border": null,
            "align_items": null,
            "bottom": null,
            "_model_module": "@jupyter-widgets/base",
            "top": null,
            "grid_column": null,
            "overflow_y": null,
            "overflow_x": null,
            "grid_auto_flow": null,
            "grid_area": null,
            "grid_template_columns": null,
            "flex": null,
            "_model_name": "LayoutModel",
            "justify_items": null,
            "grid_row": null,
            "max_height": null,
            "align_content": null,
            "visibility": null,
            "align_self": null,
            "height": null,
            "min_height": null,
            "padding": null,
            "grid_auto_rows": null,
            "grid_gap": null,
            "max_width": null,
            "order": null,
            "_view_module_version": "1.2.0",
            "grid_template_areas": null,
            "object_position": null,
            "object_fit": null,
            "grid_auto_columns": null,
            "margin": null,
            "display": null,
            "left": null
          }
        },
        "88d64e3658824e8b900d0878b57987db": {
          "model_module": "@jupyter-widgets/controls",
          "model_name": "HBoxModel",
          "state": {
            "_view_name": "HBoxView",
            "_dom_classes": [],
            "_model_name": "HBoxModel",
            "_view_module": "@jupyter-widgets/controls",
            "_model_module_version": "1.5.0",
            "_view_count": null,
            "_view_module_version": "1.5.0",
            "box_style": "",
            "layout": "IPY_MODEL_43ed6fb18d7742f9b571838784792d6a",
            "_model_module": "@jupyter-widgets/controls",
            "children": [
              "IPY_MODEL_676a7249a3f6468fa15512df8e02ace9",
              "IPY_MODEL_e5b599d449b74c6da054def3ef1290f3"
            ]
          }
        },
        "43ed6fb18d7742f9b571838784792d6a": {
          "model_module": "@jupyter-widgets/base",
          "model_name": "LayoutModel",
          "state": {
            "_view_name": "LayoutView",
            "grid_template_rows": null,
            "right": null,
            "justify_content": null,
            "_view_module": "@jupyter-widgets/base",
            "overflow": null,
            "_model_module_version": "1.2.0",
            "_view_count": null,
            "flex_flow": null,
            "width": null,
            "min_width": null,
            "border": null,
            "align_items": null,
            "bottom": null,
            "_model_module": "@jupyter-widgets/base",
            "top": null,
            "grid_column": null,
            "overflow_y": null,
            "overflow_x": null,
            "grid_auto_flow": null,
            "grid_area": null,
            "grid_template_columns": null,
            "flex": null,
            "_model_name": "LayoutModel",
            "justify_items": null,
            "grid_row": null,
            "max_height": null,
            "align_content": null,
            "visibility": null,
            "align_self": null,
            "height": null,
            "min_height": null,
            "padding": null,
            "grid_auto_rows": null,
            "grid_gap": null,
            "max_width": null,
            "order": null,
            "_view_module_version": "1.2.0",
            "grid_template_areas": null,
            "object_position": null,
            "object_fit": null,
            "grid_auto_columns": null,
            "margin": null,
            "display": null,
            "left": null
          }
        },
        "676a7249a3f6468fa15512df8e02ace9": {
          "model_module": "@jupyter-widgets/controls",
          "model_name": "FloatProgressModel",
          "state": {
            "_view_name": "ProgressView",
            "style": "IPY_MODEL_8924481007724239a07b9373b91c9281",
            "_dom_classes": [],
            "description": "100%",
            "_model_name": "FloatProgressModel",
            "bar_style": "success",
            "max": 545424,
            "_view_module": "@jupyter-widgets/controls",
            "_model_module_version": "1.5.0",
            "value": 545424,
            "_view_count": null,
            "_view_module_version": "1.5.0",
            "orientation": "horizontal",
            "min": 0,
            "description_tooltip": null,
            "_model_module": "@jupyter-widgets/controls",
            "layout": "IPY_MODEL_ecf0a99be7f0494d80ace02fa31219ed"
          }
        },
        "e5b599d449b74c6da054def3ef1290f3": {
          "model_module": "@jupyter-widgets/controls",
          "model_name": "HTMLModel",
          "state": {
            "_view_name": "HTMLView",
            "style": "IPY_MODEL_4bc3eff1db464e31b10ee194b9bf37fd",
            "_dom_classes": [],
            "description": "",
            "_model_name": "HTMLModel",
            "placeholder": "​",
            "_view_module": "@jupyter-widgets/controls",
            "_model_module_version": "1.5.0",
            "value": " 545424/545424 [15:09&lt;00:00, 599.96it/s]",
            "_view_count": null,
            "_view_module_version": "1.5.0",
            "description_tooltip": null,
            "_model_module": "@jupyter-widgets/controls",
            "layout": "IPY_MODEL_2fb988ca4e4246239154202d7bb44f6f"
          }
        },
        "8924481007724239a07b9373b91c9281": {
          "model_module": "@jupyter-widgets/controls",
          "model_name": "ProgressStyleModel",
          "state": {
            "_view_name": "StyleView",
            "_model_name": "ProgressStyleModel",
            "description_width": "initial",
            "_view_module": "@jupyter-widgets/base",
            "_model_module_version": "1.5.0",
            "_view_count": null,
            "_view_module_version": "1.2.0",
            "bar_color": null,
            "_model_module": "@jupyter-widgets/controls"
          }
        },
        "ecf0a99be7f0494d80ace02fa31219ed": {
          "model_module": "@jupyter-widgets/base",
          "model_name": "LayoutModel",
          "state": {
            "_view_name": "LayoutView",
            "grid_template_rows": null,
            "right": null,
            "justify_content": null,
            "_view_module": "@jupyter-widgets/base",
            "overflow": null,
            "_model_module_version": "1.2.0",
            "_view_count": null,
            "flex_flow": null,
            "width": null,
            "min_width": null,
            "border": null,
            "align_items": null,
            "bottom": null,
            "_model_module": "@jupyter-widgets/base",
            "top": null,
            "grid_column": null,
            "overflow_y": null,
            "overflow_x": null,
            "grid_auto_flow": null,
            "grid_area": null,
            "grid_template_columns": null,
            "flex": null,
            "_model_name": "LayoutModel",
            "justify_items": null,
            "grid_row": null,
            "max_height": null,
            "align_content": null,
            "visibility": null,
            "align_self": null,
            "height": null,
            "min_height": null,
            "padding": null,
            "grid_auto_rows": null,
            "grid_gap": null,
            "max_width": null,
            "order": null,
            "_view_module_version": "1.2.0",
            "grid_template_areas": null,
            "object_position": null,
            "object_fit": null,
            "grid_auto_columns": null,
            "margin": null,
            "display": null,
            "left": null
          }
        },
        "4bc3eff1db464e31b10ee194b9bf37fd": {
          "model_module": "@jupyter-widgets/controls",
          "model_name": "DescriptionStyleModel",
          "state": {
            "_view_name": "StyleView",
            "_model_name": "DescriptionStyleModel",
            "description_width": "",
            "_view_module": "@jupyter-widgets/base",
            "_model_module_version": "1.5.0",
            "_view_count": null,
            "_view_module_version": "1.2.0",
            "_model_module": "@jupyter-widgets/controls"
          }
        },
        "2fb988ca4e4246239154202d7bb44f6f": {
          "model_module": "@jupyter-widgets/base",
          "model_name": "LayoutModel",
          "state": {
            "_view_name": "LayoutView",
            "grid_template_rows": null,
            "right": null,
            "justify_content": null,
            "_view_module": "@jupyter-widgets/base",
            "overflow": null,
            "_model_module_version": "1.2.0",
            "_view_count": null,
            "flex_flow": null,
            "width": null,
            "min_width": null,
            "border": null,
            "align_items": null,
            "bottom": null,
            "_model_module": "@jupyter-widgets/base",
            "top": null,
            "grid_column": null,
            "overflow_y": null,
            "overflow_x": null,
            "grid_auto_flow": null,
            "grid_area": null,
            "grid_template_columns": null,
            "flex": null,
            "_model_name": "LayoutModel",
            "justify_items": null,
            "grid_row": null,
            "max_height": null,
            "align_content": null,
            "visibility": null,
            "align_self": null,
            "height": null,
            "min_height": null,
            "padding": null,
            "grid_auto_rows": null,
            "grid_gap": null,
            "max_width": null,
            "order": null,
            "_view_module_version": "1.2.0",
            "grid_template_areas": null,
            "object_position": null,
            "object_fit": null,
            "grid_auto_columns": null,
            "margin": null,
            "display": null,
            "left": null
          }
        }
      }
    }
  },
  "cells": [
    {
      "cell_type": "markdown",
      "metadata": {
        "id": "l7fAKRGhOZdL"
      },
      "source": [
        "# **Imports** "
      ]
    },
    {
      "cell_type": "code",
      "metadata": {
        "id": "HamfiMCW5MaH"
      },
      "source": [
        "%%capture\n",
        "!pip install pycountry\n",
        "! pip install -q \"tqdm>=4.36.1\"\n",
        "\n",
        "# NLP modules\n",
        "import nltk\n",
        "from nltk import ngrams\n",
        "from nltk.corpus import stopwords\n",
        "from nltk.stem import WordNetLemmatizer\n",
        "from nltk import pos_tag\n",
        "# NLTK downloads\n",
        "nltk.download(\"punkt\")\n",
        "nltk.download('wordnet')\n",
        "nltk.download(\"stopwords\")\n",
        "nltk.download('tagsets')\n",
        "nltk.download('averaged_perceptron_tagger')\n",
        "\n",
        "stopwords = stopwords.words('english')\n",
        "lemmatizer = WordNetLemmatizer()"
      ],
      "execution_count": 5,
      "outputs": []
    },
    {
      "cell_type": "code",
      "metadata": {
        "id": "95sr3iotOTCy",
        "outputId": "c319e684-5cdd-42f8-d588-767ae3feda7f",
        "colab": {
          "base_uri": "https://localhost:8080/"
        }
      },
      "source": [
        "# Data handling and system modules \n",
        "import os\n",
        "import sys\n",
        "import pickle\n",
        "import datetime\n",
        "import string\n",
        "import itertools\n",
        "import regex as re\n",
        "import numpy as np \n",
        "import pandas as pd\n",
        "from tqdm.notebook import tqdm\n",
        "from pycountry import countries\n",
        "from collections import Counter, defaultdict\n",
        "\n",
        "# parallel processing\n",
        "import multiprocessing as mp\n",
        "from multiprocessing import Pool\n",
        "print(f\"\\n========Number of processors: {mp.cpu_count()}========\\n\")\n",
        "\n",
        "def parallelize_dataframe(df, func, n_cores=int(mp.cpu_count())):\n",
        "    df_split = np.array_split(df, n_cores)\n",
        "    pool = Pool(n_cores)\n",
        "    df = pd.concat(pool.map(func, df_split))\n",
        "    pool.close()\n",
        "    pool.join()\n",
        "    return df\n",
        "\n",
        "# preprocessing modules\n",
        "from sklearn.preprocessing import LabelEncoder\n",
        "from sklearn.decomposition import PCA\n",
        "\n",
        "# Plotting modules\n",
        "from matplotlib import rc\n",
        "from matplotlib import style \n",
        "import matplotlib.pyplot as plt\n",
        "style.use('seaborn-bright')\n",
        "plt.rcParams['font.family'] = \"serif\"\n",
        "import plotly\n",
        "import seaborn as sns\n",
        "import plotly.graph_objects as go\n",
        "\n",
        "# NLP modules\n",
        "from tensorflow.keras.utils import plot_model\n",
        "from tensorflow.keras.preprocessing.text import Tokenizer\n",
        "from tensorflow.keras.preprocessing.sequence import pad_sequences\n",
        "\n",
        "# Colab notebook display configuring\n",
        "from google.colab import drive\n",
        "drive.mount('/content/gdrive')\n",
        "import warnings\n",
        "from IPython.core.interactiveshell import InteractiveShell\n",
        "InteractiveShell.ast_node_interactivity = \"all\"\n",
        "from pandas.core.common import SettingWithCopyWarning\n",
        "warnings.simplefilter(action=\"ignore\", category=SettingWithCopyWarning)\n",
        "\n",
        "os.chdir('/content/gdrive/My Drive/Colab Notebooks/phone_user_reviews/nlp_scripts/data/raw_data')\n",
        "print(f'What files are in the current directory?\\n-{os.listdir()}')\n",
        "%matplotlib inline"
      ],
      "execution_count": 6,
      "outputs": [
        {
          "output_type": "stream",
          "text": [
            "\n",
            "========Number of processors: 2========\n",
            "\n",
            "Drive already mounted at /content/gdrive; to attempt to forcibly remount, call drive.mount(\"/content/gdrive\", force_remount=True).\n",
            "What files are in the current directory?\n",
            "-['file_1.csv', 'file_2.csv', 'file_3.csv', 'file_4.csv', 'file_5.csv', 'file_6.csv']\n"
          ],
          "name": "stdout"
        }
      ]
    },
    {
      "cell_type": "markdown",
      "metadata": {
        "id": "t9yjYf-6W3to"
      },
      "source": [
        "#  **Raw data loading**"
      ]
    },
    {
      "cell_type": "code",
      "metadata": {
        "id": "RFlWtyQ-e0NE",
        "outputId": "e0d004d0-a8da-44de-f658-5b9ae53df475",
        "colab": {
          "base_uri": "https://localhost:8080/",
          "height": 0,
          "referenced_widgets": [
            "b2b626255a424772bf607b560a641ee3",
            "e28be7b731eb4d87beefe32074cb89ec",
            "782a90b202fd4d0e9186e96cd34295c3",
            "adc6ab74fffd46219d8c0a38f62a3746",
            "12577193dedb4b6f853bdd934064a446",
            "a60df6e7251649b69e74e467d5325b10",
            "3a12cdeb41564e41a4a72801b82c7d4c",
            "a371dcbcb6a649a1b8fb0bb2363f4347"
          ]
        }
      },
      "source": [
        "ds = pd.DataFrame()\n",
        "headers = ['phone_url','date','lang', 'country','domain', 'score', 'extract','product']\n",
        "for file in tqdm(os.listdir(), desc='Loading data....'):\n",
        "  df = pd.read_csv(file,\n",
        "                  encoding= \"ISO-8859-1\",\n",
        "                  names=headers,\n",
        "                  usecols=[0,1,2,3,5,6,8,10],\n",
        "                  infer_datetime_format=True,\n",
        "                  dayfirst = True)\n",
        "  ds = pd.concat([ds, pd.DataFrame(df.values.tolist()[1:])], axis=0)\n",
        "ds.columns = headers\n",
        "ds['date'] = pd.to_datetime(ds['date'])\n",
        "ds['product'] = ds['product'].apply(lambda x: str(x))\n",
        "print(f'\\n\\nNumber of examples before \\'not available\\' removal: {ds.shape[0]}')\n",
        "ds = ds.dropna(axis=0)\n",
        "print(f'\\n\\nNumber of examples after \\'not available\\' removal: {ds.shape[0]}')\n",
        "# splitting phone_url into manufacturer and model line information\n",
        "ds['manufacturer'] =  [x.split('/')[2].split('-')[0].capitalize() for x in ds.phone_url.values.tolist()]\n",
        "ds['model_line'] = [x.split('/')[2].split('-')[1].capitalize() for x in ds.phone_url.values.tolist()] \n",
        "ds"
      ],
      "execution_count": 7,
      "outputs": [
        {
          "output_type": "display_data",
          "data": {
            "application/vnd.jupyter.widget-view+json": {
              "model_id": "b2b626255a424772bf607b560a641ee3",
              "version_minor": 0,
              "version_major": 2
            },
            "text/plain": [
              "HBox(children=(FloatProgress(value=0.0, description='Loading data....', max=6.0, style=ProgressStyle(descripti…"
            ]
          },
          "metadata": {
            "tags": []
          }
        },
        {
          "output_type": "stream",
          "text": [
            "/usr/local/lib/python3.6/dist-packages/IPython/core/interactiveshell.py:2718: DtypeWarning:\n",
            "\n",
            "Columns (6) have mixed types.Specify dtype option on import or set low_memory=False.\n",
            "\n"
          ],
          "name": "stderr"
        },
        {
          "output_type": "stream",
          "text": [
            "\n",
            "\n",
            "\n",
            "Number of examples before 'not available' removal: 1415133\n",
            "\n",
            "\n",
            "Number of examples after 'not available' removal: 1332699\n"
          ],
          "name": "stdout"
        },
        {
          "output_type": "execute_result",
          "data": {
            "text/html": [
              "<div>\n",
              "<style scoped>\n",
              "    .dataframe tbody tr th:only-of-type {\n",
              "        vertical-align: middle;\n",
              "    }\n",
              "\n",
              "    .dataframe tbody tr th {\n",
              "        vertical-align: top;\n",
              "    }\n",
              "\n",
              "    .dataframe thead th {\n",
              "        text-align: right;\n",
              "    }\n",
              "</style>\n",
              "<table border=\"1\" class=\"dataframe\">\n",
              "  <thead>\n",
              "    <tr style=\"text-align: right;\">\n",
              "      <th></th>\n",
              "      <th>phone_url</th>\n",
              "      <th>date</th>\n",
              "      <th>lang</th>\n",
              "      <th>country</th>\n",
              "      <th>domain</th>\n",
              "      <th>score</th>\n",
              "      <th>extract</th>\n",
              "      <th>product</th>\n",
              "      <th>manufacturer</th>\n",
              "      <th>model_line</th>\n",
              "    </tr>\n",
              "  </thead>\n",
              "  <tbody>\n",
              "    <tr>\n",
              "      <th>0</th>\n",
              "      <td>/cellphones/samsung-galaxy-s8/</td>\n",
              "      <td>2017-05-02</td>\n",
              "      <td>en</td>\n",
              "      <td>us</td>\n",
              "      <td>verizonwireless.com</td>\n",
              "      <td>10</td>\n",
              "      <td>As a diehard Samsung fan who has had every Sam...</td>\n",
              "      <td>Samsung Galaxy S8</td>\n",
              "      <td>Samsung</td>\n",
              "      <td>Galaxy</td>\n",
              "    </tr>\n",
              "    <tr>\n",
              "      <th>1</th>\n",
              "      <td>/cellphones/samsung-galaxy-s8/</td>\n",
              "      <td>2017-04-28</td>\n",
              "      <td>en</td>\n",
              "      <td>us</td>\n",
              "      <td>phonearena.com</td>\n",
              "      <td>10</td>\n",
              "      <td>Love the phone. the phone is sleek and smooth ...</td>\n",
              "      <td>Samsung Galaxy S8</td>\n",
              "      <td>Samsung</td>\n",
              "      <td>Galaxy</td>\n",
              "    </tr>\n",
              "    <tr>\n",
              "      <th>2</th>\n",
              "      <td>/cellphones/samsung-galaxy-s8/</td>\n",
              "      <td>2017-05-04</td>\n",
              "      <td>en</td>\n",
              "      <td>us</td>\n",
              "      <td>amazon.com</td>\n",
              "      <td>6</td>\n",
              "      <td>Adequate feel. Nice heft. Processor's still sl...</td>\n",
              "      <td>Samsung Galaxy S8 (64GB) G950U 5.8\" 4G LTE Unl...</td>\n",
              "      <td>Samsung</td>\n",
              "      <td>Galaxy</td>\n",
              "    </tr>\n",
              "    <tr>\n",
              "      <th>3</th>\n",
              "      <td>/cellphones/samsung-galaxy-s8/</td>\n",
              "      <td>2017-05-02</td>\n",
              "      <td>en</td>\n",
              "      <td>us</td>\n",
              "      <td>samsung.com</td>\n",
              "      <td>9.2</td>\n",
              "      <td>Never disappointed. One of the reasons I've be...</td>\n",
              "      <td>Samsung Galaxy S8 64GB (AT&amp;T)</td>\n",
              "      <td>Samsung</td>\n",
              "      <td>Galaxy</td>\n",
              "    </tr>\n",
              "    <tr>\n",
              "      <th>4</th>\n",
              "      <td>/cellphones/samsung-galaxy-s8/</td>\n",
              "      <td>2017-05-11</td>\n",
              "      <td>en</td>\n",
              "      <td>us</td>\n",
              "      <td>verizonwireless.com</td>\n",
              "      <td>4</td>\n",
              "      <td>I've now found that i'm in a group of people t...</td>\n",
              "      <td>Samsung Galaxy S8</td>\n",
              "      <td>Samsung</td>\n",
              "      <td>Galaxy</td>\n",
              "    </tr>\n",
              "    <tr>\n",
              "      <th>...</th>\n",
              "      <td>...</td>\n",
              "      <td>...</td>\n",
              "      <td>...</td>\n",
              "      <td>...</td>\n",
              "      <td>...</td>\n",
              "      <td>...</td>\n",
              "      <td>...</td>\n",
              "      <td>...</td>\n",
              "      <td>...</td>\n",
              "      <td>...</td>\n",
              "    </tr>\n",
              "    <tr>\n",
              "      <th>163832</th>\n",
              "      <td>/cellphones/alcatel-ot-club_1187/</td>\n",
              "      <td>2000-05-12</td>\n",
              "      <td>de</td>\n",
              "      <td>de</td>\n",
              "      <td>ciao.de</td>\n",
              "      <td>2</td>\n",
              "      <td>Weil mein Onkel bei ALcatel arbeitet habe ich ...</td>\n",
              "      <td>Alcatel Club Plus Handy</td>\n",
              "      <td>Alcatel</td>\n",
              "      <td>Ot</td>\n",
              "    </tr>\n",
              "    <tr>\n",
              "      <th>163833</th>\n",
              "      <td>/cellphones/alcatel-ot-club_1187/</td>\n",
              "      <td>2000-05-11</td>\n",
              "      <td>de</td>\n",
              "      <td>de</td>\n",
              "      <td>ciao.de</td>\n",
              "      <td>10</td>\n",
              "      <td>Hy Liebe Leserinnen und Leser!! Ich habe seit ...</td>\n",
              "      <td>Alcatel Club Plus Handy</td>\n",
              "      <td>Alcatel</td>\n",
              "      <td>Ot</td>\n",
              "    </tr>\n",
              "    <tr>\n",
              "      <th>163834</th>\n",
              "      <td>/cellphones/alcatel-ot-club_1187/</td>\n",
              "      <td>2000-05-04</td>\n",
              "      <td>de</td>\n",
              "      <td>de</td>\n",
              "      <td>ciao.de</td>\n",
              "      <td>2</td>\n",
              "      <td>Jetzt hat wohl Alcatell gedacht ,sie machen wa...</td>\n",
              "      <td>Alcatel Club Plus Handy</td>\n",
              "      <td>Alcatel</td>\n",
              "      <td>Ot</td>\n",
              "    </tr>\n",
              "    <tr>\n",
              "      <th>163835</th>\n",
              "      <td>/cellphones/alcatel-ot-club_1187/</td>\n",
              "      <td>2000-05-01</td>\n",
              "      <td>de</td>\n",
              "      <td>de</td>\n",
              "      <td>ciao.de</td>\n",
              "      <td>8</td>\n",
              "      <td>Ich bin seit 2 Jahren (stolzer) Besitzer eines...</td>\n",
              "      <td>Alcatel Club Plus Handy</td>\n",
              "      <td>Alcatel</td>\n",
              "      <td>Ot</td>\n",
              "    </tr>\n",
              "    <tr>\n",
              "      <th>163836</th>\n",
              "      <td>/cellphones/alcatel-ot-club_1187/</td>\n",
              "      <td>2000-04-25</td>\n",
              "      <td>de</td>\n",
              "      <td>de</td>\n",
              "      <td>ciao.de</td>\n",
              "      <td>2</td>\n",
              "      <td>Was sich Alkatel hier wieder ausgedacht hat,sc...</td>\n",
              "      <td>Alcatel Club Plus Handy</td>\n",
              "      <td>Alcatel</td>\n",
              "      <td>Ot</td>\n",
              "    </tr>\n",
              "  </tbody>\n",
              "</table>\n",
              "<p>1332699 rows × 10 columns</p>\n",
              "</div>"
            ],
            "text/plain": [
              "                                phone_url       date  ... manufacturer model_line\n",
              "0          /cellphones/samsung-galaxy-s8/ 2017-05-02  ...      Samsung     Galaxy\n",
              "1          /cellphones/samsung-galaxy-s8/ 2017-04-28  ...      Samsung     Galaxy\n",
              "2          /cellphones/samsung-galaxy-s8/ 2017-05-04  ...      Samsung     Galaxy\n",
              "3          /cellphones/samsung-galaxy-s8/ 2017-05-02  ...      Samsung     Galaxy\n",
              "4          /cellphones/samsung-galaxy-s8/ 2017-05-11  ...      Samsung     Galaxy\n",
              "...                                   ...        ...  ...          ...        ...\n",
              "163832  /cellphones/alcatel-ot-club_1187/ 2000-05-12  ...      Alcatel         Ot\n",
              "163833  /cellphones/alcatel-ot-club_1187/ 2000-05-11  ...      Alcatel         Ot\n",
              "163834  /cellphones/alcatel-ot-club_1187/ 2000-05-04  ...      Alcatel         Ot\n",
              "163835  /cellphones/alcatel-ot-club_1187/ 2000-05-01  ...      Alcatel         Ot\n",
              "163836  /cellphones/alcatel-ot-club_1187/ 2000-04-25  ...      Alcatel         Ot\n",
              "\n",
              "[1332699 rows x 10 columns]"
            ]
          },
          "metadata": {
            "tags": []
          },
          "execution_count": 7
        }
      ]
    },
    {
      "cell_type": "markdown",
      "metadata": {
        "id": "QUU-1vIAHoTH"
      },
      "source": [
        "# **Textual exploration: Mobile attributes distributions**"
      ]
    },
    {
      "cell_type": "code",
      "metadata": {
        "id": "v07Ne7vRWxHd",
        "outputId": "ff9055d6-1829-401c-a4c7-f7d53327bf5c",
        "colab": {
          "base_uri": "https://localhost:8080/",
          "height": 0
        }
      },
      "source": [
        "def pie_chart_plotting(name, size, title):\n",
        "  fig1, ax1 = plt.subplots()\n",
        "  fig1.set_figheight(10)\n",
        "  fig1.set_figwidth(10)\n",
        "  ax1.set_title(f'{title}', fontsize=16, pad=0.1)\n",
        "  ax1.pie(s,autopct='%1.0f%%',textprops=dict(color=\"k\", fontsize=14),\n",
        "          shadow=False, startangle=90, colors=sns.cubehelix_palette(6, start=.2, rot=-.75, reverse=True),\n",
        "          pctdistance=1.1 ,radius=0.8)\n",
        "  ax1.legend(labels=n, loc=7,)\n",
        "  fig1.tight_layout()\n",
        "  fig1.subplots_adjust(top=0.95)\n",
        "\n",
        "def storage_normalising(data_frame, attribute=''):\n",
        "  specifications = data_frame['product'].tolist()\n",
        "  storage_re = re.compile('(\\d{2}|\\d{3})\\s*(?=(gb|GB))')\n",
        "  storage_found = [ storage_re.search(spec).group(1) +'gb' if storage_re.search(spec) !=None  else 'missing' for spec in specifications]\n",
        "  print(Counter(storage_found).most_common(20))\n",
        "  stor = Counter(storage_found).most_common(20)[1:6]\n",
        "  s = [x[1] for x in stor]\n",
        "  n = [x[0].upper() for x in stor]\n",
        "  sns.color_palette(\"Blues\")\n",
        "  fig1, ax1 = plt.subplots()\n",
        "  fig1.set_figheight(10)\n",
        "  fig1.set_figwidth(10)\n",
        "  ax1.set_title('Network provider distribution', fontsize=16, pad=0.1)\n",
        "  ax1.pie(s,autopct='%1.0f%%',textprops=dict(color=\"k\", fontsize=14),\n",
        "          shadow=False, startangle=90, colors=sns.cubehelix_palette(6, start=.2, rot=-.75, reverse=True),  pctdistance=1.1 ,radius=0.8)\n",
        "  ax1.legend(labels=n, loc=7,)\n",
        "  fig1.tight_layout()\n",
        "  fig1.subplots_adjust(top=0.95)\n",
        "  return Counter(storage_found).most_common(20)\n",
        "\n",
        "def camera_normalising(data_frame):\n",
        "  specifications = data_frame['product'].tolist()\n",
        "  storage_re = re.compile('(\\d{2}|\\d{3})(\\.[0])?\\s*(?=(mp|MP))')\n",
        "  storage_found = [ storage_re.search(spec).group(1) +'mp' if storage_re.search(spec) !=None  else 'missing' for spec in specifications]\n",
        "  print(Counter(storage_found).most_common(20))\n",
        "  return Counter(storage_found).most_common(20)\n",
        "\n",
        "def colour_normalising(data_frame):\n",
        "  ''' func investigating colour distribution'''\n",
        "  cols =['grey','pink','gold', 'silver', 'purple', 'yellow', 'golden', 'gray', 'white',\n",
        "        'red','black','blue','green']\n",
        "  specifications = data_frame['product'].tolist()\n",
        "  regex_cols = [r'\\b' + col +r'\\b' for col in cols]\n",
        "  regex_cols = \"|\".join(regex_cols) \n",
        "  col_re = re.compile(regex_cols)\n",
        "  col_found = [ col_re.search(spec).group(0) if col_re.search(spec) !=None  else 'missing' for spec in specifications]\n",
        "  print(Counter(col_found).most_common(20))\n",
        "  return Counter(col_found).most_common(20)\n",
        "\n",
        "def network_normalising(data_frame):\n",
        "  ''' func investigating network provider distribution'''\n",
        "  networks = ['Verizon','Cricket', 'Tim', 'Vodafone', 'Boost', 'T-Mobile', 'Tracfone', 'Sprint', 'AT&T']\n",
        "  specifications = data_frame['product'].tolist()\n",
        "  regex_net = \"|\".join(networks)\n",
        "  net_re = re.compile(regex_net)\n",
        "  print(regex_net)\n",
        "  net_found = [ net_re.search(spec).group(0) if net_re.search(spec) !=None  else 'missing' for spec in specifications]\n",
        "  print(Counter(net_found).most_common(20))\n",
        "  return Counter(net_found).most_common(20)  \n",
        "\n",
        "cam = camera_normalising(ds)\n",
        "cam = cam[1:7]\n",
        "s = [x[1] for x in cam]\n",
        "n = [x[0].upper() for x in cam]\n",
        "pie_chart_plotting(n, s, 'Camera quality distribution')\n",
        "\n",
        "colour_normalising(ds)\n",
        "col = colour_normalising(ds)\n",
        "col = col[1:7]\n",
        "s = [x[1] for x in col]\n",
        "n = [x[0].upper() for x in col]\n",
        "pie_chart_plotting(n, s, 'Colour choice distribution')\n",
        "\n",
        "network_normalising(ds)\n",
        "net = network_normalising(ds)\n",
        "net = net[1:7]\n",
        "s = [x[1] for x in net]\n",
        "n = [x[0].upper() for x in net]\n",
        "pie_chart_plotting(n, s, 'Network provider distribution')"
      ],
      "execution_count": 8,
      "outputs": [
        {
          "output_type": "stream",
          "text": [
            "[('missing', 1291981), ('13mp', 26921), ('16mp', 5487), ('12mp', 2439), ('20mp', 2323), ('21mp', 1192), ('23mp', 625), ('10mp', 525), ('15mp', 491), ('41mp', 485), ('14mp', 47), ('50mp', 45), ('18mp', 39), ('450mp', 39), ('755mp', 28), ('720mp', 22), ('32mp', 7), ('30mp', 2), ('316mp', 1)]\n",
            "[('missing', 1289699), ('black', 13560), ('gold', 6280), ('white', 5357), ('pink', 4513), ('silver', 3395), ('blue', 3351), ('grey', 2257), ('red', 2210), ('gray', 1075), ('green', 297), ('purple', 291), ('yellow', 240), ('golden', 174)]\n"
          ],
          "name": "stdout"
        },
        {
          "output_type": "execute_result",
          "data": {
            "text/plain": [
              "[('missing', 1289699),\n",
              " ('black', 13560),\n",
              " ('gold', 6280),\n",
              " ('white', 5357),\n",
              " ('pink', 4513),\n",
              " ('silver', 3395),\n",
              " ('blue', 3351),\n",
              " ('grey', 2257),\n",
              " ('red', 2210),\n",
              " ('gray', 1075),\n",
              " ('green', 297),\n",
              " ('purple', 291),\n",
              " ('yellow', 240),\n",
              " ('golden', 174)]"
            ]
          },
          "metadata": {
            "tags": []
          },
          "execution_count": 8
        },
        {
          "output_type": "stream",
          "text": [
            "[('missing', 1289699), ('black', 13560), ('gold', 6280), ('white', 5357), ('pink', 4513), ('silver', 3395), ('blue', 3351), ('grey', 2257), ('red', 2210), ('gray', 1075), ('green', 297), ('purple', 291), ('yellow', 240), ('golden', 174)]\n",
            "Verizon|Cricket|Tim|Vodafone|Boost|T-Mobile|Tracfone|Sprint|AT&T\n",
            "[('missing', 1224686), ('Verizon', 33784), ('AT&T', 23497), ('T-Mobile', 19694), ('Sprint', 13225), ('Vodafone', 5428), ('Boost', 4834), ('Tracfone', 3761), ('Tim', 2747), ('Cricket', 1043)]\n"
          ],
          "name": "stdout"
        },
        {
          "output_type": "execute_result",
          "data": {
            "text/plain": [
              "[('missing', 1224686),\n",
              " ('Verizon', 33784),\n",
              " ('AT&T', 23497),\n",
              " ('T-Mobile', 19694),\n",
              " ('Sprint', 13225),\n",
              " ('Vodafone', 5428),\n",
              " ('Boost', 4834),\n",
              " ('Tracfone', 3761),\n",
              " ('Tim', 2747),\n",
              " ('Cricket', 1043)]"
            ]
          },
          "metadata": {
            "tags": []
          },
          "execution_count": 8
        },
        {
          "output_type": "stream",
          "text": [
            "Verizon|Cricket|Tim|Vodafone|Boost|T-Mobile|Tracfone|Sprint|AT&T\n",
            "[('missing', 1224686), ('Verizon', 33784), ('AT&T', 23497), ('T-Mobile', 19694), ('Sprint', 13225), ('Vodafone', 5428), ('Boost', 4834), ('Tracfone', 3761), ('Tim', 2747), ('Cricket', 1043)]\n"
          ],
          "name": "stdout"
        },
        {
          "output_type": "display_data",
          "data": {
            "image/png": "[encoded data removed]",
            "text/plain": [
              "<Figure size 720x720 with 1 Axes>"
            ]
          },
          "metadata": {
            "tags": []
          }
        },
        {
          "output_type": "display_data",
          "data": {
            "image/png": "[encoded data removed]",
            "text/plain": [
              "<Figure size 720x720 with 1 Axes>"
            ]
          },
          "metadata": {
            "tags": []
          }
        },
        {
          "output_type": "display_data",
          "data": {
            "image/png": "[encoded data removed]",
            "text/plain": [
              "<Figure size 720x720 with 1 Axes>"
            ]
          },
          "metadata": {
            "tags": []
          }
        }
      ]
    },
    {
      "cell_type": "markdown",
      "metadata": {
        "id": "KHNoPpi6RAz5"
      },
      "source": [
        "# **Pre-processing: Language abbreviations ID**"
      ]
    },
    {
      "cell_type": "code",
      "metadata": {
        "id": "2YbTrtWj6zlQ",
        "outputId": "ed49f778-898b-4127-e461-ee94298c4bb6",
        "colab": {
          "base_uri": "https://localhost:8080/"
        }
      },
      "source": [
        "lang_abb_list = tuple(set(ds.lang))\n",
        "print(f'============================= Language abbreviations of dataset: {lang_abb_list}')\n",
        "full_language_list = ()\n",
        "not_recognised_abbreviation = ()\n",
        "ordered_abb_ID = ()\n",
        "for lang in lang_abb_list:\n",
        "  try:\n",
        "    full_language_list = full_language_list + (countries.lookup(lang).name,)\n",
        "    ordered_abb_ID = ordered_abb_ID + (lang,)\n",
        "  except LookupError:\n",
        "    not_recognised_abbreviation = not_recognised_abbreviation + (lang,)\n",
        "    pass\n",
        "lang_abb = ordered_abb_ID + not_recognised_abbreviation\n",
        "not_recongised_languages = ('Hebrew', 'Czech Repulic','Japan', 'China','England','Denmark')\n",
        "all_lang = (*full_language_list, *not_recongised_languages)\n",
        "# assert len(all_lang) == len(lang_abb)\n",
        "country_abb_2name_dict = dict(zip(lang_abb, all_lang))\n",
        "country_abb_2name_dict['sg'] = 'Singapore'\n",
        "country_abb_2name_dict['in'] = 'India'\n",
        "country_abb_2name_dict['au'] = 'Australia'\n",
        "country_abb_2name_dict['us'] = 'United States'\n",
        "country_abb_2name_dict['gb'] = 'Great Britain'\n",
        "country_abb_2name_dict['ca'] = 'Canada'\n",
        "country_abb_2name_dict['nz'] = 'New Zealand'\n",
        "country_abb_2name_dict['za'] = 'South Africa'\n",
        "print(country_abb_2name_dict)\n",
        "os.chdir('/content/gdrive/My Drive/Colab Notebooks/phone_user_reviews/nlp_scripts/data')\n",
        "with open('language_abbreviation_dictionary.pickle', 'wb') as file_handle:\n",
        "  pickle.dump(country_abb_2name_dict, file_handle)"
      ],
      "execution_count": 22,
      "outputs": [
        {
          "output_type": "stream",
          "text": [
            "============================= Language abbreviations of dataset: ('es', 'ar', 'cs', 'sv', 'fr', 'ru', 'pt', 'no', 'de', 'pl', 'ja', 'it', 'zh', 'fi', 'id', 'tr', 'en', 'nl', 'hu', 'da', 'he')\n",
            "{'es': 'Spain', 'ar': 'Argentina', 'sv': 'El Salvador', 'fr': 'France', 'ru': 'Russian Federation', 'pt': 'Portugal', 'no': 'Norway', 'de': 'Germany', 'pl': 'Poland', 'it': 'Italy', 'fi': 'Finland', 'id': 'Indonesia', 'tr': 'Turkey', 'nl': 'Netherlands', 'hu': 'Hungary', 'cs': 'Hebrew', 'ja': 'Czech Repulic', 'zh': 'Japan', 'en': 'China', 'da': 'England', 'he': 'Denmark', 'sg': 'Singapore', 'in': 'India', 'au': 'Australia', 'us': 'United States', 'gb': 'Great Britain', 'ca': 'Canada', 'nz': 'New Zealand', 'za': 'South Africa'}\n"
          ],
          "name": "stdout"
        }
      ]
    },
    {
      "cell_type": "markdown",
      "metadata": {
        "id": "DEXRXUDEiRC0"
      },
      "source": [
        "#**Exploratory plots: Origin country & language**"
      ]
    },
    {
      "cell_type": "code",
      "metadata": {
        "id": "npxilpcrN30b",
        "outputId": "dac553f2-c341-4a1e-f59a-8ebc882714ee",
        "colab": {
          "base_uri": "https://localhost:8080/"
        }
      },
      "source": [
        "def domain_count_plotting(data_frame_column ,number_of_classes, title, x_label, y_label):\n",
        "  '''Historgram of origin website domain'''\n",
        "  domain = Counter(data_frame_column.domain.to_list())\n",
        "  bars = number_of_classes\n",
        "  freq_counts  = domain.most_common(bars)\n",
        "  x_points = np.arange(1, bars+1, 1)\n",
        "  heights = [counts[1] for counts in freq_counts]\n",
        "  names = [counts[0] for counts in freq_counts]\n",
        "  plt.figure(figsize=(10,6))\n",
        "  ax = plt.subplot(111)\n",
        "  ax.bar(x_points, heights, width=0.8, bottom=None, align='center')\n",
        "  ax.set_xlabel(f'{x_label}', fontsize='12')\n",
        "  ax.set_title(f'{title}' , pad=10, fontsize=18)\n",
        "  ax.tick_params(axis = 'both', which = 'major', labelsize = 12)\n",
        "  ax.tick_params(axis='x', labelrotation=90)\n",
        "  ax.set_xticklabels(names)\n",
        "  ax.set_xticks(x_points)\n",
        "\n",
        "def language_distribution_plotting():\n",
        "  '''histogram of language distribution'''\n",
        "  plt.figure(figsize=(10,6))\n",
        "  ds.lang = ds['lang'].astype(\"category\")\n",
        "  ax = ds['lang'].value_counts().plot(kind='bar')\n",
        "  ax.set_xlabel('Language', fontsize='12')\n",
        "  countries = ax.get_xticklabels()\n",
        "  countries = list(countries)\n",
        "  ax.set_title('Language distribution', pad=10, fontsize=16)\n",
        "  ax.tick_params(axis = 'both', which = 'major', labelsize = 12)\n",
        "  ax.tick_params(axis = 'both', which = 'minor', labelsize = 12)\n",
        "\n",
        "def origin_country_plotting():\n",
        "  '''origin country histogram'''\n",
        "  plt.figure(figsize=(10,6))\n",
        "  ds.country = ds['country'].astype(\"category\")\n",
        "  ax = ds['country'].value_counts().plot(kind='bar')\n",
        "  # countries_full_name = country_abb_2name_dict\n",
        "  ax.set_xlabel('Country', fontsize='12')\n",
        "  ax.set_title('Origin country distribution' , pad=10, fontsize=18)\n",
        "  ax.tick_params(axis = 'both', which = 'major', labelsize = 12)\n",
        "  ax.tick_params(axis = 'both', which = 'minor', labelsize = 12)\n",
        "\n",
        "language_distribution_plotting()\n",
        "origin_country_plotting()\n",
        "domain_count_plotting(ds, 20, 'Website domain distribution', 'Website domains', 'Counts')"
      ],
      "execution_count": null,
      "outputs": [
        {
          "output_type": "display_data",
          "data": {
            "image/png": "[encoded data removed]",
            "text/plain": [
              "<Figure size 720x432 with 1 Axes>"
            ]
          },
          "metadata": {
            "tags": [],
            "needs_background": "light"
          }
        },
        {
          "output_type": "display_data",
          "data": {
            "image/png": "[encoded data removed]",
            "text/plain": [
              "<Figure size 720x432 with 1 Axes>"
            ]
          },
          "metadata": {
            "tags": [],
            "needs_background": "light"
          }
        },
        {
          "output_type": "display_data",
          "data": {
            "image/png": "[encoded data removed]",
            "text/plain": [
              "<Figure size 720x432 with 1 Axes>"
            ]
          },
          "metadata": {
            "tags": [],
            "needs_background": "light"
          }
        }
      ]
    },
    {
      "cell_type": "markdown",
      "metadata": {
        "id": "KVn6c6_2i2Kn"
      },
      "source": [
        "#**Exploratory plot: Manufacturer insight**\n"
      ]
    },
    {
      "cell_type": "code",
      "metadata": {
        "id": "pZF1iTdtZya4",
        "outputId": "3a32cf2e-c994-44a9-efd5-8f4d72ca6a65",
        "colab": {
          "base_uri": "https://localhost:8080/"
        }
      },
      "source": [
        "def manufacturer_distribution_plotting(ds):\n",
        "  '''Extracting manufacturer from url column and plotting distribution'''\n",
        "  counter_manufacturers = dict(Counter(list(ds['manufacturer'].values.tolist())).most_common(20))\n",
        "  print(counter_manufacturers)\n",
        "  fig = plt.figure(figsize=(20,10))\n",
        "  plt.bar(height=list(counter_manufacturers.values()), x=list(counter_manufacturers.keys()))\n",
        "  plt.xticks(fontsize=22, rotation='vertical')\n",
        "  plt.yticks(fontsize=22)\n",
        "  plt.title('Manufacturer distribution',fontsize=18, pad=10)\n",
        "  return counter_manufacturers\n",
        "\n",
        "man_count_top10 = manufacturer_distribution_plotting(ds)"
      ],
      "execution_count": null,
      "outputs": [
        {
          "output_type": "stream",
          "text": [
            "{'Samsung': 343644, 'Nokia': 173457, 'Sony': 111096, 'Lg': 109184, 'Motorola': 84585, 'Apple': 81407, 'Htc': 65332, 'Huawei': 64369, 'Lenovo': 40948, 'Blackberry': 29281, 'Asus': 24382, 'Oneplus': 18505, 'Microsoft': 18402, 'Blu': 17163, 'Alcatel': 14962, 'Doogee': 10583, 'Cubot': 9907, 'Google': 9499, 'Xiaomi': 8742, 'Zte': 7853}\n"
          ],
          "name": "stdout"
        },
        {
          "output_type": "display_data",
          "data": {
            "image/png": "[encoded data removed]",
            "text/plain": [
              "<Figure size 1440x720 with 1 Axes>"
            ]
          },
          "metadata": {
            "tags": [],
            "needs_background": "light"
          }
        }
      ]
    },
    {
      "cell_type": "markdown",
      "metadata": {
        "id": "zys-Zb-tH8m2"
      },
      "source": [
        "# **Exploratory plot: Manufacturer-score wise insight**"
      ]
    },
    {
      "cell_type": "code",
      "metadata": {
        "id": "DAXzQrxebCc9",
        "outputId": "01ae7aba-2dfc-4961-fa6f-8fa3eb19b68e",
        "colab": {
          "base_uri": "https://localhost:8080/"
        }
      },
      "source": [
        "def manufacturer_score_var_mean():\n",
        "  fig = plt.figure(figsize=(12,7))\n",
        "  ds['score'] = [ float(x) for x in ds.score ]\n",
        "  avg_scores = ds.groupby(['manufacturer']).score.mean()\n",
        "  avg_var = ds.groupby(['manufacturer']).score.var()\n",
        "\n",
        "  top = tuple([x[0] for x in Counter(man_count_top10).most_common(10)]) \n",
        "  top_man_scores_var = []\n",
        "  for top_man_var in top:\n",
        "    top_man_scores_var.append(avg_var[top_man_var])\n",
        "  top_man_scores = []\n",
        "  for top_man in top:\n",
        "    top_man_scores.append(avg_scores[top_man])\n",
        "  fig, ax = plt.subplots()\n",
        "  fig.set_figheight(10)\n",
        "  fig.set_figwidth(20) \n",
        "  plt.title('Top manufacturer\\'s average score and standard deviation',fontsize=26, pad=15)\n",
        "  plt.bar(np.arange(0,len(top),1),top_man_scores, align='center', width=0.9)\n",
        "  plt.ylim([0,12])\n",
        "  ax.set_xticks(np.arange(0,16,1))\n",
        "  ax.set_xticklabels(labels=top)\n",
        "  plt.xticks(fontsize=22, rotation='vertical')\n",
        "  for x in np.arange(0,len(top),1):\n",
        "    ax.text(x,3, r'{0:.2f}'.format(top_man_scores[x]), color='white', fontsize=18,\n",
        "            va='center', ha='center', bbox = dict(boxstyle='round4', facecolor='grey', alpha=0.3))\n",
        "    ax.text(x,2, r'$\\sigma$='+r'{0:.2f}'.format(np.sqrt(top_man_scores_var[x])),\n",
        "            color='white', fontsize=12, va='center', ha='center', bbox = dict(boxstyle='round4', facecolor='grey', alpha=0.3)  )\n",
        "    ax.errorbar(x=x ,y= top_man_scores[x] , yerr=np.sqrt(top_man_scores_var[x]), capsize=5, lw=3, color='indianred')\n",
        "\n",
        "manufacturer_score_var_mean()"
      ],
      "execution_count": null,
      "outputs": [
        {
          "output_type": "display_data",
          "data": {
            "text/plain": [
              "<Figure size 864x504 with 0 Axes>"
            ]
          },
          "metadata": {
            "tags": []
          }
        },
        {
          "output_type": "display_data",
          "data": {
            "image/png": "[encoded data removed]",
            "text/plain": [
              "<Figure size 1440x720 with 1 Axes>"
            ]
          },
          "metadata": {
            "tags": [],
            "needs_background": "light"
          }
        }
      ]
    },
    {
      "cell_type": "code",
      "metadata": {
        "id": "J95ymaU1Qhp7",
        "outputId": "0d213285-44d2-4532-8524-91c724324a06",
        "colab": {
          "base_uri": "https://localhost:8080/"
        }
      },
      "source": [
        "def rebinning(score, counts):\n",
        "  bins=np.arange(0.5, 10.5, 1)\n",
        "  counts_collection = [0,0,0,0,0,0,0,0,0,0]\n",
        "  for s, b in zip(score, counts):\n",
        "    if 0.<s<=1.:\n",
        "      counts_collection[0]+=b\n",
        "    elif 1.<s<=2.:\n",
        "      counts_collection[1]+=b\n",
        "    elif 2.<s<=3.:\n",
        "      counts_collection[2]+=b\n",
        "    elif 3.<s<=4.:\n",
        "      counts_collection[3]+=b\n",
        "    elif 4.<s<=5.:\n",
        "      counts_collection[4]+=b\n",
        "    elif 5.<s<=6.:\n",
        "      counts_collection[5]+=b      \n",
        "    elif 6.<s<=7.:\n",
        "      counts_collection[6]+=b\n",
        "    elif 7.<s<=8.:\n",
        "      counts_collection[7]+=b\n",
        "    elif 8.<s<=9.:\n",
        "      counts_collection[8]+=b\n",
        "    elif 9<s<=10.:\n",
        "      counts_collection[9]+=b\n",
        "  \n",
        "  return bins, counts_collection\n",
        "\n",
        "df_man_model_score = ds[['manufacturer', 'model_line', 'score']]\n",
        "df_man_model_score[['manufacturer', 'model_line']] = ds[['manufacturer', 'model_line']].astype('category')\n",
        "\n",
        "\n",
        "def manufacturer_score_distribution(manufacturer_key,\n",
        "                                    df):\n",
        "  df_man_score_specified = df[df['manufacturer'] == manufacturer_key]\n",
        "  d = df_man_score_specified.score.value_counts()\n",
        "  x, y = rebinning(score = list(d.index),\n",
        "                  counts = d.values)\n",
        "  manufacturer_name = string.capwords(manufacturer_key)#  + ' score'\n",
        "  return (manufacturer_name , y)\n",
        "\n",
        "hist_counts = []\n",
        "manufacturers_counts = []\n",
        "\n",
        "man_name_list_ordered = tuple([x[0] for x in Counter(man_count_top10).most_common(10)])\n",
        "\n",
        "for manufacturer in man_name_list_ordered:\n",
        "  hist_counts.append(manufacturer_score_distribution(manufacturer_key=manufacturer,\n",
        "                                  df = df_man_model_score)[1] )\n",
        "  manufacturers_counts.append(manufacturer_score_distribution(manufacturer_key=manufacturer,\n",
        "                                  df = df_man_model_score)[0]) \n",
        "\n",
        "ones = [x[0] for x in hist_counts]\n",
        "twos= [x[1] for x in hist_counts]\n",
        "threes=[x[2] for x in hist_counts]\n",
        "fours=[x[3] for x in hist_counts]\n",
        "fives =[x[4] for x in hist_counts]\n",
        "sixes=[x[5] for x in hist_counts]\n",
        "sevens= [x[6] for x in hist_counts]\n",
        "eights =[x[7] for x in hist_counts]\n",
        "nines =[x[8] for x in hist_counts]\n",
        "tens =[x[9] for x in hist_counts]\n",
        "counts = [ones, twos, threes, fours, fives, sixes, sevens, eights, nines, tens]\n",
        "\n",
        "fig = plt.figure(figsize=(15,8))\n",
        "ax = plt.subplot(111)\n",
        "ax.set_title('Score distribution of top 10 manufacturers',fontsize=18, pad=10)\n",
        "x = np.arange(5, 55, 5)\n",
        "print(x)\n",
        "\n",
        "for i in range(0,9):\n",
        "  w = 0.5\n",
        "  ax.bar(x[i]-5*w, counts[i][0], width=w, color='lightseagreen', align='center')\n",
        "  ax.bar(x[i]-4*w, counts[i][1], width=w, color='deepskyblue', align='center')\n",
        "  ax.bar(x[i]-3*w, counts[i][2], width=w, color='blue', align='center')\n",
        "  ax.bar(x[i]-2*w, counts[i][3], width=w, color='midnightblue', align='center')\n",
        "  ax.bar(x[i]-w, counts[i][4], width=w, color='powderblue', align='center')\n",
        "\n",
        "  ax.bar(x[i]+w, counts[i][5], width=w, color='cornflowerblue', align='center')\n",
        "  ax.bar(x[i]+2*w, counts[i][6], width=w, color='lightsteelblue', align='center')\n",
        "  ax.bar(x[i]+3*w, counts[i][7], width=w, color='lightslategray', align='center')\n",
        "  ax.bar(x[i]+4*w, counts[i][8], width=w, color='darkblue', align='center')\n",
        "  ax.bar(x[i]+5*w, counts[i][9], width=w, color='mediumseagreen', align='center')\n",
        "\n",
        "i=9\n",
        "ax.bar(x[i]-5*w, counts[i][0], width=w, color='lightseagreen', align='center', label=f'{man_name_list_ordered[0]}')\n",
        "ax.bar(x[i]-4*w, counts[i][1], width=w, color='deepskyblue', align='center', label=f'{man_name_list_ordered[1]}')\n",
        "ax.bar(x[i]-3*w, counts[i][2], width=w, color='blue', align='center', label=f'{man_name_list_ordered[2]}')\n",
        "ax.bar(x[i]-2*w, counts[i][3], width=w, color='midnightblue', align='center', label=f'{man_name_list_ordered[3].upper()}')\n",
        "ax.bar(x[i]-w, counts[i][4], width=w, color='powderblue', align='center', label=f'{man_name_list_ordered[4]}')\n",
        "\n",
        "ax.bar(x[i]+w, counts[i][5], width=w, color='cornflowerblue', align='center', label=f'{man_name_list_ordered[5] }')\n",
        "ax.bar(x[i]+2*w, counts[i][6], width=w, color='lightsteelblue', align='center', label=f'{man_name_list_ordered[6].upper()}')\n",
        "ax.bar(x[i]+3*w, counts[i][7], width=w, color='lightslategray', align='center', label=f'{man_name_list_ordered[7]}')\n",
        "ax.bar(x[i]+4*w, counts[i][8], width=w, color='darkblue', align='center', label=f'{man_name_list_ordered[8]}')\n",
        "ax.bar(x[i]+5*w, counts[i][9], width=w, color='mediumseagreen', align='center', label=f'{man_name_list_ordered[9]}')\n",
        "\n",
        "ax.set_xticks(ticks = x)\n",
        "ax.set_xticklabels(labels=[1,2,3,4,5,6,7,8,9,10], fontsize=12)\n",
        "ax.legend()\n"
      ],
      "execution_count": null,
      "outputs": [
        {
          "output_type": "execute_result",
          "data": {
            "text/plain": [
              "Text(0.5, 1.0, 'Score distribution of top 10 manufacturers')"
            ]
          },
          "metadata": {
            "tags": []
          },
          "execution_count": 9
        },
        {
          "output_type": "stream",
          "text": [
            "[ 5 10 15 20 25 30 35 40 45 50]\n"
          ],
          "name": "stdout"
        },
        {
          "output_type": "execute_result",
          "data": {
            "text/plain": [
              "<BarContainer object of 1 artists>"
            ]
          },
          "metadata": {
            "tags": []
          },
          "execution_count": 9
        },
        {
          "output_type": "execute_result",
          "data": {
            "text/plain": [
              "<BarContainer object of 1 artists>"
            ]
          },
          "metadata": {
            "tags": []
          },
          "execution_count": 9
        },
        {
          "output_type": "execute_result",
          "data": {
            "text/plain": [
              "<BarContainer object of 1 artists>"
            ]
          },
          "metadata": {
            "tags": []
          },
          "execution_count": 9
        },
        {
          "output_type": "execute_result",
          "data": {
            "text/plain": [
              "<BarContainer object of 1 artists>"
            ]
          },
          "metadata": {
            "tags": []
          },
          "execution_count": 9
        },
        {
          "output_type": "execute_result",
          "data": {
            "text/plain": [
              "<BarContainer object of 1 artists>"
            ]
          },
          "metadata": {
            "tags": []
          },
          "execution_count": 9
        },
        {
          "output_type": "execute_result",
          "data": {
            "text/plain": [
              "<BarContainer object of 1 artists>"
            ]
          },
          "metadata": {
            "tags": []
          },
          "execution_count": 9
        },
        {
          "output_type": "execute_result",
          "data": {
            "text/plain": [
              "<BarContainer object of 1 artists>"
            ]
          },
          "metadata": {
            "tags": []
          },
          "execution_count": 9
        },
        {
          "output_type": "execute_result",
          "data": {
            "text/plain": [
              "<BarContainer object of 1 artists>"
            ]
          },
          "metadata": {
            "tags": []
          },
          "execution_count": 9
        },
        {
          "output_type": "execute_result",
          "data": {
            "text/plain": [
              "<BarContainer object of 1 artists>"
            ]
          },
          "metadata": {
            "tags": []
          },
          "execution_count": 9
        },
        {
          "output_type": "execute_result",
          "data": {
            "text/plain": [
              "<BarContainer object of 1 artists>"
            ]
          },
          "metadata": {
            "tags": []
          },
          "execution_count": 9
        },
        {
          "output_type": "execute_result",
          "data": {
            "text/plain": [
              "<BarContainer object of 1 artists>"
            ]
          },
          "metadata": {
            "tags": []
          },
          "execution_count": 9
        },
        {
          "output_type": "execute_result",
          "data": {
            "text/plain": [
              "<BarContainer object of 1 artists>"
            ]
          },
          "metadata": {
            "tags": []
          },
          "execution_count": 9
        },
        {
          "output_type": "execute_result",
          "data": {
            "text/plain": [
              "<BarContainer object of 1 artists>"
            ]
          },
          "metadata": {
            "tags": []
          },
          "execution_count": 9
        },
        {
          "output_type": "execute_result",
          "data": {
            "text/plain": [
              "<BarContainer object of 1 artists>"
            ]
          },
          "metadata": {
            "tags": []
          },
          "execution_count": 9
        },
        {
          "output_type": "execute_result",
          "data": {
            "text/plain": [
              "<BarContainer object of 1 artists>"
            ]
          },
          "metadata": {
            "tags": []
          },
          "execution_count": 9
        },
        {
          "output_type": "execute_result",
          "data": {
            "text/plain": [
              "<BarContainer object of 1 artists>"
            ]
          },
          "metadata": {
            "tags": []
          },
          "execution_count": 9
        },
        {
          "output_type": "execute_result",
          "data": {
            "text/plain": [
              "<BarContainer object of 1 artists>"
            ]
          },
          "metadata": {
            "tags": []
          },
          "execution_count": 9
        },
        {
          "output_type": "execute_result",
          "data": {
            "text/plain": [
              "<BarContainer object of 1 artists>"
            ]
          },
          "metadata": {
            "tags": []
          },
          "execution_count": 9
        },
        {
          "output_type": "execute_result",
          "data": {
            "text/plain": [
              "<BarContainer object of 1 artists>"
            ]
          },
          "metadata": {
            "tags": []
          },
          "execution_count": 9
        },
        {
          "output_type": "execute_result",
          "data": {
            "text/plain": [
              "<BarContainer object of 1 artists>"
            ]
          },
          "metadata": {
            "tags": []
          },
          "execution_count": 9
        },
        {
          "output_type": "execute_result",
          "data": {
            "text/plain": [
              "<BarContainer object of 1 artists>"
            ]
          },
          "metadata": {
            "tags": []
          },
          "execution_count": 9
        },
        {
          "output_type": "execute_result",
          "data": {
            "text/plain": [
              "<BarContainer object of 1 artists>"
            ]
          },
          "metadata": {
            "tags": []
          },
          "execution_count": 9
        },
        {
          "output_type": "execute_result",
          "data": {
            "text/plain": [
              "<BarContainer object of 1 artists>"
            ]
          },
          "metadata": {
            "tags": []
          },
          "execution_count": 9
        },
        {
          "output_type": "execute_result",
          "data": {
            "text/plain": [
              "<BarContainer object of 1 artists>"
            ]
          },
          "metadata": {
            "tags": []
          },
          "execution_count": 9
        },
        {
          "output_type": "execute_result",
          "data": {
            "text/plain": [
              "<BarContainer object of 1 artists>"
            ]
          },
          "metadata": {
            "tags": []
          },
          "execution_count": 9
        },
        {
          "output_type": "execute_result",
          "data": {
            "text/plain": [
              "<BarContainer object of 1 artists>"
            ]
          },
          "metadata": {
            "tags": []
          },
          "execution_count": 9
        },
        {
          "output_type": "execute_result",
          "data": {
            "text/plain": [
              "<BarContainer object of 1 artists>"
            ]
          },
          "metadata": {
            "tags": []
          },
          "execution_count": 9
        },
        {
          "output_type": "execute_result",
          "data": {
            "text/plain": [
              "<BarContainer object of 1 artists>"
            ]
          },
          "metadata": {
            "tags": []
          },
          "execution_count": 9
        },
        {
          "output_type": "execute_result",
          "data": {
            "text/plain": [
              "<BarContainer object of 1 artists>"
            ]
          },
          "metadata": {
            "tags": []
          },
          "execution_count": 9
        },
        {
          "output_type": "execute_result",
          "data": {
            "text/plain": [
              "<BarContainer object of 1 artists>"
            ]
          },
          "metadata": {
            "tags": []
          },
          "execution_count": 9
        },
        {
          "output_type": "execute_result",
          "data": {
            "text/plain": [
              "<BarContainer object of 1 artists>"
            ]
          },
          "metadata": {
            "tags": []
          },
          "execution_count": 9
        },
        {
          "output_type": "execute_result",
          "data": {
            "text/plain": [
              "<BarContainer object of 1 artists>"
            ]
          },
          "metadata": {
            "tags": []
          },
          "execution_count": 9
        },
        {
          "output_type": "execute_result",
          "data": {
            "text/plain": [
              "<BarContainer object of 1 artists>"
            ]
          },
          "metadata": {
            "tags": []
          },
          "execution_count": 9
        },
        {
          "output_type": "execute_result",
          "data": {
            "text/plain": [
              "<BarContainer object of 1 artists>"
            ]
          },
          "metadata": {
            "tags": []
          },
          "execution_count": 9
        },
        {
          "output_type": "execute_result",
          "data": {
            "text/plain": [
              "<BarContainer object of 1 artists>"
            ]
          },
          "metadata": {
            "tags": []
          },
          "execution_count": 9
        },
        {
          "output_type": "execute_result",
          "data": {
            "text/plain": [
              "<BarContainer object of 1 artists>"
            ]
          },
          "metadata": {
            "tags": []
          },
          "execution_count": 9
        },
        {
          "output_type": "execute_result",
          "data": {
            "text/plain": [
              "<BarContainer object of 1 artists>"
            ]
          },
          "metadata": {
            "tags": []
          },
          "execution_count": 9
        },
        {
          "output_type": "execute_result",
          "data": {
            "text/plain": [
              "<BarContainer object of 1 artists>"
            ]
          },
          "metadata": {
            "tags": []
          },
          "execution_count": 9
        },
        {
          "output_type": "execute_result",
          "data": {
            "text/plain": [
              "<BarContainer object of 1 artists>"
            ]
          },
          "metadata": {
            "tags": []
          },
          "execution_count": 9
        },
        {
          "output_type": "execute_result",
          "data": {
            "text/plain": [
              "<BarContainer object of 1 artists>"
            ]
          },
          "metadata": {
            "tags": []
          },
          "execution_count": 9
        },
        {
          "output_type": "execute_result",
          "data": {
            "text/plain": [
              "<BarContainer object of 1 artists>"
            ]
          },
          "metadata": {
            "tags": []
          },
          "execution_count": 9
        },
        {
          "output_type": "execute_result",
          "data": {
            "text/plain": [
              "<BarContainer object of 1 artists>"
            ]
          },
          "metadata": {
            "tags": []
          },
          "execution_count": 9
        },
        {
          "output_type": "execute_result",
          "data": {
            "text/plain": [
              "<BarContainer object of 1 artists>"
            ]
          },
          "metadata": {
            "tags": []
          },
          "execution_count": 9
        },
        {
          "output_type": "execute_result",
          "data": {
            "text/plain": [
              "<BarContainer object of 1 artists>"
            ]
          },
          "metadata": {
            "tags": []
          },
          "execution_count": 9
        },
        {
          "output_type": "execute_result",
          "data": {
            "text/plain": [
              "<BarContainer object of 1 artists>"
            ]
          },
          "metadata": {
            "tags": []
          },
          "execution_count": 9
        },
        {
          "output_type": "execute_result",
          "data": {
            "text/plain": [
              "<BarContainer object of 1 artists>"
            ]
          },
          "metadata": {
            "tags": []
          },
          "execution_count": 9
        },
        {
          "output_type": "execute_result",
          "data": {
            "text/plain": [
              "<BarContainer object of 1 artists>"
            ]
          },
          "metadata": {
            "tags": []
          },
          "execution_count": 9
        },
        {
          "output_type": "execute_result",
          "data": {
            "text/plain": [
              "<BarContainer object of 1 artists>"
            ]
          },
          "metadata": {
            "tags": []
          },
          "execution_count": 9
        },
        {
          "output_type": "execute_result",
          "data": {
            "text/plain": [
              "<BarContainer object of 1 artists>"
            ]
          },
          "metadata": {
            "tags": []
          },
          "execution_count": 9
        },
        {
          "output_type": "execute_result",
          "data": {
            "text/plain": [
              "<BarContainer object of 1 artists>"
            ]
          },
          "metadata": {
            "tags": []
          },
          "execution_count": 9
        },
        {
          "output_type": "execute_result",
          "data": {
            "text/plain": [
              "<BarContainer object of 1 artists>"
            ]
          },
          "metadata": {
            "tags": []
          },
          "execution_count": 9
        },
        {
          "output_type": "execute_result",
          "data": {
            "text/plain": [
              "<BarContainer object of 1 artists>"
            ]
          },
          "metadata": {
            "tags": []
          },
          "execution_count": 9
        },
        {
          "output_type": "execute_result",
          "data": {
            "text/plain": [
              "<BarContainer object of 1 artists>"
            ]
          },
          "metadata": {
            "tags": []
          },
          "execution_count": 9
        },
        {
          "output_type": "execute_result",
          "data": {
            "text/plain": [
              "<BarContainer object of 1 artists>"
            ]
          },
          "metadata": {
            "tags": []
          },
          "execution_count": 9
        },
        {
          "output_type": "execute_result",
          "data": {
            "text/plain": [
              "<BarContainer object of 1 artists>"
            ]
          },
          "metadata": {
            "tags": []
          },
          "execution_count": 9
        },
        {
          "output_type": "execute_result",
          "data": {
            "text/plain": [
              "<BarContainer object of 1 artists>"
            ]
          },
          "metadata": {
            "tags": []
          },
          "execution_count": 9
        },
        {
          "output_type": "execute_result",
          "data": {
            "text/plain": [
              "<BarContainer object of 1 artists>"
            ]
          },
          "metadata": {
            "tags": []
          },
          "execution_count": 9
        },
        {
          "output_type": "execute_result",
          "data": {
            "text/plain": [
              "<BarContainer object of 1 artists>"
            ]
          },
          "metadata": {
            "tags": []
          },
          "execution_count": 9
        },
        {
          "output_type": "execute_result",
          "data": {
            "text/plain": [
              "<BarContainer object of 1 artists>"
            ]
          },
          "metadata": {
            "tags": []
          },
          "execution_count": 9
        },
        {
          "output_type": "execute_result",
          "data": {
            "text/plain": [
              "<BarContainer object of 1 artists>"
            ]
          },
          "metadata": {
            "tags": []
          },
          "execution_count": 9
        },
        {
          "output_type": "execute_result",
          "data": {
            "text/plain": [
              "<BarContainer object of 1 artists>"
            ]
          },
          "metadata": {
            "tags": []
          },
          "execution_count": 9
        },
        {
          "output_type": "execute_result",
          "data": {
            "text/plain": [
              "<BarContainer object of 1 artists>"
            ]
          },
          "metadata": {
            "tags": []
          },
          "execution_count": 9
        },
        {
          "output_type": "execute_result",
          "data": {
            "text/plain": [
              "<BarContainer object of 1 artists>"
            ]
          },
          "metadata": {
            "tags": []
          },
          "execution_count": 9
        },
        {
          "output_type": "execute_result",
          "data": {
            "text/plain": [
              "<BarContainer object of 1 artists>"
            ]
          },
          "metadata": {
            "tags": []
          },
          "execution_count": 9
        },
        {
          "output_type": "execute_result",
          "data": {
            "text/plain": [
              "<BarContainer object of 1 artists>"
            ]
          },
          "metadata": {
            "tags": []
          },
          "execution_count": 9
        },
        {
          "output_type": "execute_result",
          "data": {
            "text/plain": [
              "<BarContainer object of 1 artists>"
            ]
          },
          "metadata": {
            "tags": []
          },
          "execution_count": 9
        },
        {
          "output_type": "execute_result",
          "data": {
            "text/plain": [
              "<BarContainer object of 1 artists>"
            ]
          },
          "metadata": {
            "tags": []
          },
          "execution_count": 9
        },
        {
          "output_type": "execute_result",
          "data": {
            "text/plain": [
              "<BarContainer object of 1 artists>"
            ]
          },
          "metadata": {
            "tags": []
          },
          "execution_count": 9
        },
        {
          "output_type": "execute_result",
          "data": {
            "text/plain": [
              "<BarContainer object of 1 artists>"
            ]
          },
          "metadata": {
            "tags": []
          },
          "execution_count": 9
        },
        {
          "output_type": "execute_result",
          "data": {
            "text/plain": [
              "<BarContainer object of 1 artists>"
            ]
          },
          "metadata": {
            "tags": []
          },
          "execution_count": 9
        },
        {
          "output_type": "execute_result",
          "data": {
            "text/plain": [
              "<BarContainer object of 1 artists>"
            ]
          },
          "metadata": {
            "tags": []
          },
          "execution_count": 9
        },
        {
          "output_type": "execute_result",
          "data": {
            "text/plain": [
              "<BarContainer object of 1 artists>"
            ]
          },
          "metadata": {
            "tags": []
          },
          "execution_count": 9
        },
        {
          "output_type": "execute_result",
          "data": {
            "text/plain": [
              "<BarContainer object of 1 artists>"
            ]
          },
          "metadata": {
            "tags": []
          },
          "execution_count": 9
        },
        {
          "output_type": "execute_result",
          "data": {
            "text/plain": [
              "<BarContainer object of 1 artists>"
            ]
          },
          "metadata": {
            "tags": []
          },
          "execution_count": 9
        },
        {
          "output_type": "execute_result",
          "data": {
            "text/plain": [
              "<BarContainer object of 1 artists>"
            ]
          },
          "metadata": {
            "tags": []
          },
          "execution_count": 9
        },
        {
          "output_type": "execute_result",
          "data": {
            "text/plain": [
              "<BarContainer object of 1 artists>"
            ]
          },
          "metadata": {
            "tags": []
          },
          "execution_count": 9
        },
        {
          "output_type": "execute_result",
          "data": {
            "text/plain": [
              "<BarContainer object of 1 artists>"
            ]
          },
          "metadata": {
            "tags": []
          },
          "execution_count": 9
        },
        {
          "output_type": "execute_result",
          "data": {
            "text/plain": [
              "<BarContainer object of 1 artists>"
            ]
          },
          "metadata": {
            "tags": []
          },
          "execution_count": 9
        },
        {
          "output_type": "execute_result",
          "data": {
            "text/plain": [
              "<BarContainer object of 1 artists>"
            ]
          },
          "metadata": {
            "tags": []
          },
          "execution_count": 9
        },
        {
          "output_type": "execute_result",
          "data": {
            "text/plain": [
              "<BarContainer object of 1 artists>"
            ]
          },
          "metadata": {
            "tags": []
          },
          "execution_count": 9
        },
        {
          "output_type": "execute_result",
          "data": {
            "text/plain": [
              "<BarContainer object of 1 artists>"
            ]
          },
          "metadata": {
            "tags": []
          },
          "execution_count": 9
        },
        {
          "output_type": "execute_result",
          "data": {
            "text/plain": [
              "<BarContainer object of 1 artists>"
            ]
          },
          "metadata": {
            "tags": []
          },
          "execution_count": 9
        },
        {
          "output_type": "execute_result",
          "data": {
            "text/plain": [
              "<BarContainer object of 1 artists>"
            ]
          },
          "metadata": {
            "tags": []
          },
          "execution_count": 9
        },
        {
          "output_type": "execute_result",
          "data": {
            "text/plain": [
              "<BarContainer object of 1 artists>"
            ]
          },
          "metadata": {
            "tags": []
          },
          "execution_count": 9
        },
        {
          "output_type": "execute_result",
          "data": {
            "text/plain": [
              "<BarContainer object of 1 artists>"
            ]
          },
          "metadata": {
            "tags": []
          },
          "execution_count": 9
        },
        {
          "output_type": "execute_result",
          "data": {
            "text/plain": [
              "<BarContainer object of 1 artists>"
            ]
          },
          "metadata": {
            "tags": []
          },
          "execution_count": 9
        },
        {
          "output_type": "execute_result",
          "data": {
            "text/plain": [
              "<BarContainer object of 1 artists>"
            ]
          },
          "metadata": {
            "tags": []
          },
          "execution_count": 9
        },
        {
          "output_type": "execute_result",
          "data": {
            "text/plain": [
              "<BarContainer object of 1 artists>"
            ]
          },
          "metadata": {
            "tags": []
          },
          "execution_count": 9
        },
        {
          "output_type": "execute_result",
          "data": {
            "text/plain": [
              "<BarContainer object of 1 artists>"
            ]
          },
          "metadata": {
            "tags": []
          },
          "execution_count": 9
        },
        {
          "output_type": "execute_result",
          "data": {
            "text/plain": [
              "<BarContainer object of 1 artists>"
            ]
          },
          "metadata": {
            "tags": []
          },
          "execution_count": 9
        },
        {
          "output_type": "execute_result",
          "data": {
            "text/plain": [
              "<BarContainer object of 1 artists>"
            ]
          },
          "metadata": {
            "tags": []
          },
          "execution_count": 9
        },
        {
          "output_type": "execute_result",
          "data": {
            "text/plain": [
              "<BarContainer object of 1 artists>"
            ]
          },
          "metadata": {
            "tags": []
          },
          "execution_count": 9
        },
        {
          "output_type": "execute_result",
          "data": {
            "text/plain": [
              "<BarContainer object of 1 artists>"
            ]
          },
          "metadata": {
            "tags": []
          },
          "execution_count": 9
        },
        {
          "output_type": "execute_result",
          "data": {
            "text/plain": [
              "<BarContainer object of 1 artists>"
            ]
          },
          "metadata": {
            "tags": []
          },
          "execution_count": 9
        },
        {
          "output_type": "execute_result",
          "data": {
            "text/plain": [
              "<BarContainer object of 1 artists>"
            ]
          },
          "metadata": {
            "tags": []
          },
          "execution_count": 9
        },
        {
          "output_type": "execute_result",
          "data": {
            "text/plain": [
              "<BarContainer object of 1 artists>"
            ]
          },
          "metadata": {
            "tags": []
          },
          "execution_count": 9
        },
        {
          "output_type": "execute_result",
          "data": {
            "text/plain": [
              "<BarContainer object of 1 artists>"
            ]
          },
          "metadata": {
            "tags": []
          },
          "execution_count": 9
        },
        {
          "output_type": "execute_result",
          "data": {
            "text/plain": [
              "<BarContainer object of 1 artists>"
            ]
          },
          "metadata": {
            "tags": []
          },
          "execution_count": 9
        },
        {
          "output_type": "execute_result",
          "data": {
            "text/plain": [
              "<BarContainer object of 1 artists>"
            ]
          },
          "metadata": {
            "tags": []
          },
          "execution_count": 9
        },
        {
          "output_type": "execute_result",
          "data": {
            "text/plain": [
              "<BarContainer object of 1 artists>"
            ]
          },
          "metadata": {
            "tags": []
          },
          "execution_count": 9
        },
        {
          "output_type": "execute_result",
          "data": {
            "text/plain": [
              "[<matplotlib.axis.XTick at 0x7fc3af55bda0>,\n",
              " <matplotlib.axis.XTick at 0x7fc3af55bd68>,\n",
              " <matplotlib.axis.XTick at 0x7fc3af55ba90>,\n",
              " <matplotlib.axis.XTick at 0x7fc3b017d898>,\n",
              " <matplotlib.axis.XTick at 0x7fc3b017de48>,\n",
              " <matplotlib.axis.XTick at 0x7fc3b00c9278>,\n",
              " <matplotlib.axis.XTick at 0x7fc3b00c9710>,\n",
              " <matplotlib.axis.XTick at 0x7fc3b00c9ba8>,\n",
              " <matplotlib.axis.XTick at 0x7fc3b00cb0f0>,\n",
              " <matplotlib.axis.XTick at 0x7fc3b00cb518>]"
            ]
          },
          "metadata": {
            "tags": []
          },
          "execution_count": 9
        },
        {
          "output_type": "execute_result",
          "data": {
            "text/plain": [
              "[Text(0, 0, '1'),\n",
              " Text(0, 0, '2'),\n",
              " Text(0, 0, '3'),\n",
              " Text(0, 0, '4'),\n",
              " Text(0, 0, '5'),\n",
              " Text(0, 0, '6'),\n",
              " Text(0, 0, '7'),\n",
              " Text(0, 0, '8'),\n",
              " Text(0, 0, '9'),\n",
              " Text(0, 0, '10')]"
            ]
          },
          "metadata": {
            "tags": []
          },
          "execution_count": 9
        },
        {
          "output_type": "execute_result",
          "data": {
            "text/plain": [
              "<matplotlib.legend.Legend at 0x7fc3b00cbc50>"
            ]
          },
          "metadata": {
            "tags": []
          },
          "execution_count": 9
        },
        {
          "output_type": "display_data",
          "data": {
            "image/png": "[encoded data removed]",
            "text/plain": [
              "<Figure size 1080x576 with 1 Axes>"
            ]
          },
          "metadata": {
            "tags": [],
            "needs_background": "light"
          }
        }
      ]
    },
    {
      "cell_type": "markdown",
      "metadata": {
        "id": "4Fn7xrPPQcWY"
      },
      "source": [
        "# **Preprocess: Polarity assignment**\n",
        "{-1:Negative, 0:Neutral, 1:Positive}"
      ]
    },
    {
      "cell_type": "code",
      "metadata": {
        "id": "Q9DQpKJ4Qcy0",
        "outputId": "c18b8c23-f741-45d6-92ad-7f1ccdfe7955",
        "colab": {
          "base_uri": "https://localhost:8080/"
        }
      },
      "source": [
        "LB_C, UB_C = 4.0, 9.0 ##########################################################\n",
        "ds_neg = ds[ds.score <= LB_C]\n",
        "print(f'For lower bound cut-off of {LB_C}, porition of negative reviews: {ds_neg.shape[0]*100/ds.shape[0]:.2f}%\\n')\n",
        "ds_neut = ds[(LB_C < ds.score) & (ds.score <= UB_C)]\n",
        "print(f'For upper bound cut-off of {UB_C}, porition of neutral reviews: {ds_neut.shape[0]*100/ds.shape[0]:.2f}%\\n')\n",
        "ds_pos = ds[ds.score > UB_C]\n",
        "print(f'For lower and upper bound cut-off of {LB_C} and {UB_C}, porition of positive reviews: {ds_pos.shape[0]*100/ds.shape[0]:.2f}%\\n')\n",
        "\n",
        "ds['score'][ds.score <= LB_C] = int(-1)\n",
        "ds['score'][(ds.score > LB_C) & (ds.score  <= UB_C)] = int(0)\n",
        "ds['score'][ds.score > UB_C] = int(1)\n",
        "\n",
        "fig = plt.figure(figsize=(13,8))\n",
        "ax = plt.subplot(111)\n",
        "ax.set_title('Assigned sentiment distribution of top 10 manufacturers',\n",
        "             fontsize=18,\n",
        "             pad=10)\n",
        "ds_top_man = ds[ ds['manufacturer'].isin(man_name_list_ordered)]\n",
        "man_wise_sentiment = ds_top_man.groupby(['manufacturer','score'])['score'].count()\n",
        "man_wise_sentiment.plot(kind='bar',\n",
        "                        color=['r', 'g', 'b'], ax=ax)"
      ],
      "execution_count": null,
      "outputs": [
        {
          "output_type": "stream",
          "text": [
            "For lower bound cut-off of 4.0, porition of negative reviews: 15.38%\n",
            "\n",
            "For upper bound cut-off of 9.0, porition of neutral reviews: 34.53%\n",
            "\n",
            "For lower and upper bound cut-off of 4.0 and 9.0, porition of positive reviews: 50.09%\n",
            "\n"
          ],
          "name": "stdout"
        },
        {
          "output_type": "execute_result",
          "data": {
            "text/plain": [
              "Text(0.5, 1.0, 'Assigned sentiment distribution of top 10 manufacturers')"
            ]
          },
          "metadata": {
            "tags": []
          },
          "execution_count": 10
        },
        {
          "output_type": "execute_result",
          "data": {
            "text/plain": [
              "<matplotlib.axes._subplots.AxesSubplot at 0x7fc3af54ec88>"
            ]
          },
          "metadata": {
            "tags": []
          },
          "execution_count": 10
        },
        {
          "output_type": "display_data",
          "data": {
            "image/png": "[encoded data removed]",
            "text/plain": [
              "<Figure size 936x576 with 1 Axes>"
            ]
          },
          "metadata": {
            "tags": [],
            "needs_background": "light"
          }
        }
      ]
    },
    {
      "cell_type": "markdown",
      "metadata": {
        "id": "vrBKzLkmiaeM"
      },
      "source": [
        "#**Exploratory plot: Categorical data insight:**\n",
        "###Language, country,\tdomain, manufacturer &\tmodel line\n"
      ]
    },
    {
      "cell_type": "code",
      "metadata": {
        "id": "mWYkgmQpiavK"
      },
      "source": [
        "def pairplot_cat_variables():\n",
        "  '''Encoding data using vanilla label encoding: Ordinal encoding BUT  nominal variables'''\n",
        "  scat_df = ds[['country', 'domain', 'manufacturer', 'model_line', 'score']]\n",
        "  encoder_dict = defaultdict(LabelEncoder)\n",
        "  forward_transform_lambda = lambda x: encoder_dict[x.name].fit_transform(x)\n",
        "  inverse_transform_lambda = lambda x: encoder_dict[x.name].inverse_transform(x)\n",
        "  df = pd.concat( [scat_df[['country', 'domain', 'manufacturer', 'model_line']].apply(forward_transform_lambda),\n",
        "                  scat_df[['score']]], axis=1)  \n",
        "  g = sns.pairplot(df)\n",
        "  g.fig.set_size_inches(20,20)\n",
        "  g.fig.suptitle(\"Nominal features pairwise plot\", size=18, y=1.05)\n",
        "\n",
        "\n",
        "def categorically_data_correlation(df, cats=True):\n",
        "  ''' Function causes RAM issues'''\n",
        "  cat_corr_df = df[['country','domain','manufacturer','model_line']]\n",
        "  encoding_dict, ticks, concat_1hot_encoded = {}, [], [] \n",
        "  # One hot encoding\n",
        "  for name in cat_corr_df:\n",
        "    concat_1hot_encoded.append(pd.get_dummies(cat_corr_df[f'{name}'], prefix=f'{name}', drop_first=True))\n",
        "  Xt_corr = pd.concat([*encoding_dict,df.score], axis=1)\n",
        "  # Convert to categorical type and assign encoding column header names \n",
        "  for col in Xt_corr.columns[:-1]: \n",
        "    Xt_corr[col]= Xt_corr[col].astype('category')\n",
        "  for col in Xt_corr.columns[:-1]:\n",
        "    Xt_corr[col+'_enc']= Xt_corr[[col]].squeeze().cat.codes\n",
        "  # print old vs new headers\n",
        "  for (new_col, old_col) in list(zip(Xt_corr.columns[279:],Xt_corr.columns[:279])):\n",
        "    print(f'The old headers: {old_col}\\n'\\\n",
        "          f'=== new =======: {new_col}')\n",
        "    ticks.append(old_col)\n",
        "    encoding_dict[new_col] = dict( zip( Xt_corr[old_col].cat.codes, Xt_corr[old_col]))\n",
        "\n",
        "  encoded_column_headers= Xt_corr.columns[278:].tolist()\n",
        "  print(f'The headers to keep are: {encoded_column_headers}')\n",
        "  Xt_corr = Xt_corr[encoded_column_headers]\n",
        "  Xt_corr.head(5)\n",
        "  for key in list(encoding_dict.keys()):\n",
        "    print(f'Encoding for corresponding key {list(encoding_dict[key].items())[:10]}')\n",
        "    print(f'Encoding key for dictionary: {key}\\n\\n')\n",
        "  rename_dict = {'country_enc':'Country',\n",
        "                'domain_enc':'Domain',\n",
        "                'manufacturer_enc':'Manufacturer',\n",
        "                'model_line_enc':'Model line',\n",
        "                'score':'Sentiment'}\n",
        "  Xt_corr = Xt_corr.rename(columns=rename_dict)\n",
        "  ticks = Xt_corr.columns.tolist()\n",
        "  if cats == True:\n",
        "    f = plt.figure(figsize=(8, 10))\n",
        "    plt.matshow(Xt_corr.corr(), fignum=f.number, cmap='Blues')\n",
        "                        #1                    #1                           #1                    #1\n",
        "    plt.xticks(np.arange(70,Xt_corr.shape[1],70), Xt_corr.columns[np.arange(70,Xt_corr.shape[1],70)], fontsize=14, rotation=45)\n",
        "    plt.yticks(np.arange(70,Xt_corr.shape[1],70), Xt_corr.columns[np.arange(70,Xt_corr.shape[1],70)], fontsize=14)\n",
        "    cb = plt.colorbar(shrink=0.64)\n",
        "    cb.ax.tick_params(labelsize=14)\n",
        "    plt.title('Auxiliary variable correlation matrix', fontsize=18, pad=80)\n",
        "\n",
        "# categorically_data_correlation(ds)\n",
        "# pairplot_cat_variables()"
      ],
      "execution_count": null,
      "outputs": []
    },
    {
      "cell_type": "markdown",
      "metadata": {
        "id": "TA5MC3mTPgp4"
      },
      "source": [
        "# **Preprocess: Textual information**\n",
        "Data reduction: Reviews authored in English only"
      ]
    },
    {
      "cell_type": "code",
      "metadata": {
        "id": "bqqdcRTrPgye",
        "outputId": "1cc6d5ae-3555-4ff6-ee64-9d570efaebff",
        "colab": {
          "base_uri": "https://localhost:8080/",
          "height": 1000,
          "referenced_widgets": [
            "d9eb9ce0d1c646ffb8e5730253fdd20c",
            "bf447ff07b6f4a31b28bbd13064fbf20",
            "061b7fe0cb4b4c54b8c9d806fd616b7a",
            "1bdda76c67e94fe5afce4b848baed0b2",
            "be8163e7c3cc4e518b679917c04e9394",
            "aa3d1a19ed084013bb79eb1e8a65b82d",
            "7c989df4557849bba0ef806c699b70d9",
            "ba56a53abf824169b153922d357cc401",
            "b6c1721363924a35a22b3c088d4d7963",
            "5fd73024861943868ab2c4ce5ab1c340",
            "27d775511e024f9bb3b214f3ab0572d5",
            "7e63e9a9c7704a82835713b89cdf1167",
            "2c9f9307d9a24ca5a737c73ba6aae623",
            "fa378a2e5d1c47e3ba1822704c137a39",
            "3cabf49c74fb4156a02a02c3fdcc14d2",
            "34c17f7eb2354906ace1f4dc5f36ddf8",
            "d1a4b3181bf54f8ea7163e89f2ffcd07",
            "b0aea084f8894d99a1198ddd8bb18d23",
            "2a82835137ec46c29406ad5df77e4a5b",
            "ad9e8f6a12874dc9a51de489a8dfa819",
            "cb7420f19ba64da19aa3a36fc1f4e8b5",
            "a2f96ccc5eb3450a81b3aaf5036e3808",
            "66e673321cad452385fe17ffbef21f54",
            "6a6c61ee3be249cc80d9d14c77dc1ece",
            "88d64e3658824e8b900d0878b57987db",
            "43ed6fb18d7742f9b571838784792d6a",
            "676a7249a3f6468fa15512df8e02ace9",
            "e5b599d449b74c6da054def3ef1290f3",
            "8924481007724239a07b9373b91c9281",
            "ecf0a99be7f0494d80ace02fa31219ed",
            "4bc3eff1db464e31b10ee194b9bf37fd",
            "2fb988ca4e4246239154202d7bb44f6f"
          ]
        }
      },
      "source": [
        "print(f'Dataset size prior to reduction: {ds.shape[0]}')\n",
        "df = ds[ds['lang'] == 'en']\n",
        "print(f'Dataset size posterior to reduction: {df.shape[0]}\\n\\n Example reviews:')\n",
        "\n",
        "def lower_casing(tokens):\n",
        "  ''' In place tokenization'''\n",
        "  return [token.lower() for token in tokens]\n",
        "\n",
        "def punctuation_normalising(tokens):\n",
        "  ''' Punctuation removal. CAREFUL: \" means inch and so on.  '''\n",
        "  tokens = [ re.sub('\\.' ,'', token) for token in tokens]\n",
        "  tokens = [ re.sub('\\,' ,'', token) for token in tokens]\n",
        "  tokens = [ re.sub('\\+' ,'', token) for token in tokens]\n",
        "  tokens = [ re.sub('\\(', '', token) for token in tokens]\n",
        "  tokens = [ re.sub('\\)', '', token) for token in tokens]\n",
        "  tokens = [ re.sub('\\!', '', token) for token in tokens]\n",
        "  tokens = [ re.sub('\\#', '', token) for token in tokens]\n",
        "  tokens = [ re.sub('\\$', '', token) for token in tokens]\n",
        "  tokens = [ re.sub('\\&', '', token) for token in tokens]\n",
        "  tokens = [ re.sub('\\?', '', token) for token in tokens]\n",
        "  tokens = [ re.sub('\\;', '', token) for token in tokens]\n",
        "  tokens = [ re.sub('\\=', '', token) for token in tokens]\n",
        "  tokens = [ re.sub('\\@', '', token) for token in tokens]\n",
        "  tokens = [ re.sub('\\/', '', token) for token in tokens]\n",
        "  tokens = [ re.sub('\\:', '', token) for token in tokens]\n",
        "  tokens = [ re.sub('\\-', '', token) for token in tokens]\n",
        "  return tokens \n",
        "\n",
        "def lemmatization(tokens):\n",
        "  '''Function takes in tokens performs parts of speech  (POS) tagging \n",
        "  and uses the found tags to correctly lemmatise the tokens. Assuming verbs'''\n",
        "  try: \n",
        "    pos_tags=[ tag[1] for tag in pos_tag(tokens)]\n",
        "    pos_tags = [tag[0].lower() for tag in pos_tags]\n",
        "    pos_tag_set = tuple(set(pos_tags)) + ('n', 'i','d' ,'c', 'j','r', 'm', '.', 'w',':','--',\"''\", ',','(',')','p','t','u','f','``',\"'\",'l','v','e', '$','s','#' )\n",
        "    pos_tag_set_replacement = ('v' for i in range(len(pos_tag_set)))\n",
        "    pos_dict_replacement = {key:value for key, value in zip(pos_tag_set, pos_tag_set_replacement)}\n",
        "    pos_tags_adjusted = [pos_dict_replacement[pos_tag_individual] for pos_tag_individual in pos_tags ]\n",
        "    tokens = [lemmatizer.lemmatize(token, pos=f'{pos}') for token, pos in zip(tokens, pos_tags_adjusted)]\n",
        "  except IndexError: \n",
        "    pass\n",
        "  return tokens\n",
        "\n",
        "tqdm.pandas() # required to show progression bar for pandas dataframe\n",
        "print('\\nSplitting....\\n')\n",
        "df['token'] = df['extract'].progress_apply(lambda x: x.split(' ') )\n",
        "df['token'][100:110]\n",
        "\n",
        "print('\\nlower casing....\\n')\n",
        "df['token'] = df['token'].progress_apply(lower_casing)\n",
        "df['token'][100:110]\n",
        "\n",
        "print('\\npunctation removal....\\n')\n",
        "df['token'] = df['token'].progress_apply(punctuation_normalising)\n",
        "df['token'][100:110]\n",
        "\n",
        "print('\\nlemmatization....\\n')\n",
        "df['token'] = df['token'].progress_apply(lemmatization)\n",
        "df['token'][100:110]\n",
        "\n",
        "\n",
        "df['extract'] = df['token'].apply(lambda x: ' '.join(x))\n",
        "df.drop(columns=['token'], inplace=True)\n",
        "os.chdir('/content/gdrive/My Drive/Colab Notebooks/phone_user_reviews/nlp_scripts/data')\n",
        "\n",
        "with open('df_ENGLISH_ONLY.pickle', 'wb') as file_handle:\n",
        "  pickle.dump(df, file_handle)"
      ],
      "execution_count": null,
      "outputs": [
        {
          "output_type": "stream",
          "text": [
            "Dataset size prior to reduction: 1332699\n",
            "Dataset size posterior to reduction: 545424\n",
            "\n",
            " Example reviews:\n",
            "\n",
            "Splitting....\n",
            "\n"
          ],
          "name": "stdout"
        },
        {
          "output_type": "display_data",
          "data": {
            "application/vnd.jupyter.widget-view+json": {
              "model_id": "d9eb9ce0d1c646ffb8e5730253fdd20c",
              "version_minor": 0,
              "version_major": 2
            },
            "text/plain": [
              "HBox(children=(FloatProgress(value=0.0, max=545424.0), HTML(value='')))"
            ]
          },
          "metadata": {
            "tags": []
          }
        },
        {
          "output_type": "stream",
          "text": [
            "\n"
          ],
          "name": "stdout"
        },
        {
          "output_type": "execute_result",
          "data": {
            "text/plain": [
              "100    [The, Galaxy, S8, is, very, fast, and, a, very...\n",
              "101    [Love, my, new, GS8., Great, phone, with, nice...\n",
              "102    [GREAT, PHONE, n, I, will, recommended, to, I,...\n",
              "103    [The, phone, is, very, light, comparing, to, t...\n",
              "104    [The, phone, looks, great,, works, good..but, ...\n",
              "105    [Clunky, is, the, best, word, for, it., The, n...\n",
              "106    [Pre, ordered, and, received, early., Amazing,...\n",
              "107    [I, was, amazed, by, the, Samsung, Galaxy, S8+...\n",
              "108    [I, was, iPhone, user, for, ten, years, and, I...\n",
              "109    [Awesome, phone, HATE, I, BIXBY, and, there, s...\n",
              "Name: token, dtype: object"
            ]
          },
          "metadata": {
            "tags": []
          },
          "execution_count": 12
        },
        {
          "output_type": "stream",
          "text": [
            "\n",
            "lower casing....\n",
            "\n"
          ],
          "name": "stdout"
        },
        {
          "output_type": "display_data",
          "data": {
            "application/vnd.jupyter.widget-view+json": {
              "model_id": "b6c1721363924a35a22b3c088d4d7963",
              "version_minor": 0,
              "version_major": 2
            },
            "text/plain": [
              "HBox(children=(FloatProgress(value=0.0, max=545424.0), HTML(value='')))"
            ]
          },
          "metadata": {
            "tags": []
          }
        },
        {
          "output_type": "stream",
          "text": [
            "\n"
          ],
          "name": "stdout"
        },
        {
          "output_type": "execute_result",
          "data": {
            "text/plain": [
              "100    [the, galaxy, s8, is, very, fast, and, a, very...\n",
              "101    [love, my, new, gs8., great, phone, with, nice...\n",
              "102    [great, phone, n, i, will, recommended, to, i,...\n",
              "103    [the, phone, is, very, light, comparing, to, t...\n",
              "104    [the, phone, looks, great,, works, good..but, ...\n",
              "105    [clunky, is, the, best, word, for, it., the, n...\n",
              "106    [pre, ordered, and, received, early., amazing,...\n",
              "107    [i, was, amazed, by, the, samsung, galaxy, s8+...\n",
              "108    [i, was, iphone, user, for, ten, years, and, i...\n",
              "109    [awesome, phone, hate, i, bixby, and, there, s...\n",
              "Name: token, dtype: object"
            ]
          },
          "metadata": {
            "tags": []
          },
          "execution_count": 12
        },
        {
          "output_type": "stream",
          "text": [
            "\n",
            "punctation removal....\n",
            "\n"
          ],
          "name": "stdout"
        },
        {
          "output_type": "display_data",
          "data": {
            "application/vnd.jupyter.widget-view+json": {
              "model_id": "d1a4b3181bf54f8ea7163e89f2ffcd07",
              "version_minor": 0,
              "version_major": 2
            },
            "text/plain": [
              "HBox(children=(FloatProgress(value=0.0, max=545424.0), HTML(value='')))"
            ]
          },
          "metadata": {
            "tags": []
          }
        },
        {
          "output_type": "stream",
          "text": [
            "\n"
          ],
          "name": "stdout"
        },
        {
          "output_type": "execute_result",
          "data": {
            "text/plain": [
              "100    [the, galaxy, s8, is, very, fast, and, a, very...\n",
              "101    [love, my, new, gs8, great, phone, with, nice,...\n",
              "102    [great, phone, n, i, will, recommended, to, i,...\n",
              "103    [the, phone, is, very, light, comparing, to, t...\n",
              "104    [the, phone, looks, great, works, goodbut, it,...\n",
              "105    [clunky, is, the, best, word, for, it, the, ne...\n",
              "106    [pre, ordered, and, received, early, amazing, ...\n",
              "107    [i, was, amazed, by, the, samsung, galaxy, s8,...\n",
              "108    [i, was, iphone, user, for, ten, years, and, i...\n",
              "109    [awesome, phone, hate, i, bixby, and, there, s...\n",
              "Name: token, dtype: object"
            ]
          },
          "metadata": {
            "tags": []
          },
          "execution_count": 12
        },
        {
          "output_type": "stream",
          "text": [
            "\n",
            "lemmatization....\n",
            "\n"
          ],
          "name": "stdout"
        },
        {
          "output_type": "display_data",
          "data": {
            "application/vnd.jupyter.widget-view+json": {
              "model_id": "88d64e3658824e8b900d0878b57987db",
              "version_minor": 0,
              "version_major": 2
            },
            "text/plain": [
              "HBox(children=(FloatProgress(value=0.0, max=545424.0), HTML(value='')))"
            ]
          },
          "metadata": {
            "tags": []
          }
        },
        {
          "output_type": "stream",
          "text": [
            "\n"
          ],
          "name": "stdout"
        },
        {
          "output_type": "execute_result",
          "data": {
            "text/plain": [
              "100    [the, galaxy, s8, be, very, fast, and, a, very...\n",
              "101    [love, my, new, gs8, great, phone, with, nice,...\n",
              "102    [great, phone, n, i, will, recommend, to, i, k...\n",
              "103    [the, phone, be, very, light, compare, to, the...\n",
              "104    [the, phone, look, great, work, goodbut, it, d...\n",
              "105    [clunky, be, the, best, word, for, it, the, ne...\n",
              "106    [pre, order, and, receive, early, amaze, phone...\n",
              "107    [i, be, amaze, by, the, samsung, galaxy, s8, i...\n",
              "108    [i, was, iphone, user, for, ten, years, and, i...\n",
              "109    [awesome, phone, hate, i, bixby, and, there, s...\n",
              "Name: token, dtype: object"
            ]
          },
          "metadata": {
            "tags": []
          },
          "execution_count": 12
        }
      ]
    },
    {
      "cell_type": "code",
      "metadata": {
        "id": "Rtb4abNvPg6H"
      },
      "source": [
        "def corpus_terminology_normalisation(tokens):\n",
        "  '''Normalising appearance of mobile phone attributes in text. For Variational\n",
        "    autoencoder'''\n",
        "  tokens = [ re.sub('(?<=\\d{2})\\s' ,'', token) for token in tokens]                   # find two digits in row -> contract following white space\n",
        "  tokens = [ re.sub('(?<=\\d\\.\\d)\\s', '', token) for token in tokens]                  # find digit.digit (like 12.0) contract following white space\n",
        "  tokens = [ re.sub('\"', 'inch', token) for token in tokens]                          # replace symbol for 'inch' with inch\n",
        "  tokens = [ re.sub('\\s*(inches)', 'inch', token) for token in tokens]                # replace inches with a possible white space with inch \n",
        "  tokens = [ re.sub('megapixel', 'mp', token) for token in tokens]                    # replace megapixel with mp\n",
        "  tokens = [ re.sub('megapixels', 'mp', token) for token in tokens ]                  # replace megapixels with mp\n",
        "  tokens = [ re.sub('mpixels', 'mp', token) for token in tokens]                      # replace mpixels with mp\n",
        "  tokens = [ re.sub('\\s(?=(gb))', '', token) for token in tokens]                     # contract whitespace in front of gb\n",
        "  tokens = [ re.sub('\\s(?=(mp))', '',token) for token in tokens]                      # contract whitespace in front of mp\n",
        "  return tokens"
      ],
      "execution_count": null,
      "outputs": []
    }
  ]
}